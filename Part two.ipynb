{
 "cells": [
  {
   "cell_type": "code",
   "execution_count": 2,
   "id": "000e84f6",
   "metadata": {},
   "outputs": [],
   "source": [
    "#merging DataFrame"
   ]
  },
  {
   "cell_type": "code",
   "execution_count": 3,
   "id": "cfe41b4e",
   "metadata": {},
   "outputs": [],
   "source": [
    "import pandas as pd"
   ]
  },
  {
   "cell_type": "code",
   "execution_count": 4,
   "id": "2aa866f3",
   "metadata": {},
   "outputs": [],
   "source": [
    "import sqlalchemy as db"
   ]
  },
  {
   "cell_type": "code",
   "execution_count": 5,
   "id": "52c2336d",
   "metadata": {},
   "outputs": [],
   "source": [
    "engine = db.create_engine ('sqlite:///assingment.db')"
   ]
  },
  {
   "cell_type": "code",
   "execution_count": 6,
   "id": "f81aa793",
   "metadata": {},
   "outputs": [],
   "source": [
    "Training_data = pd.read_sql_query('select * from Training', con=engine)"
   ]
  },
  {
   "cell_type": "code",
   "execution_count": 7,
   "id": "2f57d698",
   "metadata": {},
   "outputs": [],
   "source": [
    "Training_data = Training_data.rename(columns={'Y1': 'Y1_train', 'Y2': 'Y2_train', 'Y3': 'Y3_train', 'Y4': 'Y4_train'})"
   ]
  },
  {
   "cell_type": "code",
   "execution_count": 8,
   "id": "a62a1ca8",
   "metadata": {},
   "outputs": [],
   "source": [
    "Ideal_data = pd.read_sql_query('select * from ideal', con=engine)"
   ]
  },
  {
   "cell_type": "code",
   "execution_count": 9,
   "id": "6888d504",
   "metadata": {},
   "outputs": [],
   "source": [
    "Ideal_data = Ideal_data.rename(columns={\"Y1\": \"Y1_ideal\", \"Y2\": \"Y2_ideal\", \"Y3\": \"Y3_ideal\", \"Y4\": \"Y4_ideal\", \"Y5\": \"Y5_ideal\", \"Y6\": \"Y6_ideal\", \"Y7\":\"Y7_ideal\", \"Y8\": \"Y8_ideal\", \"Y9\": \"Y9_ideal\", \"Y10\":\"Y10_ideal\", \"Y11\": \"Y11_ideal\", \"Y12\": \"Y12_ideal\", \"Y13\": \"Y13_ideal\", \"Y14\": \"Y14_ideal\", \"Y15\": \"Y15_ideal\", \"Y16\": \"Y16_ideal\", \"Y17\": \"Y17_ideal\", \"Y18\": \"Y18_ideal\", \"Y19\": \"Y19_ideal\", \"Y20\": \"Y20_ideal\", \"Y21\": \"Y21_ideal\", \"Y22\": \"Y22_ideal\", \"Y23\": \"Y23_ideal\", \"Y24\": \"Y24_ideal\", \"Y25\": \"Y25_ideal\", \"Y26\": \"Y26_ideal\", \"Y27\": \"Y27_ideal\", \"Y28\": \"Y28_ideal\", \"Y29\": \"Y29_ideal\", \"Y30\": \"Y30_ideal\", \"Y31\": \"Y31_ideal\", \"Y32\": \"Y32_ideal\", \"Y33\": \"Y33_ideal\", \"Y34\": \"Y34_ideal\", \"Y35\": \"Y35_ideal\", \"Y36\": \"Y36_ideal\", \"Y37\": \"Y37_ideal\", \"Y38\": \"Y38_ideal\", \"Y39\": \"Y39_ideal\", \"Y40\": \"Y40_ideal\", \"Y41\": \"Y41_ideal\", \"Y42\": \"Y42_ideal\", \"Y43\": \"Y43_ideal\", \"Y44\": \"Y44_ideal\", \"Y45\": \"Y45_ideal\", \"Y46\": \"Y46_ideal\", \"Y47\": \"Y47_ideal\", \"Y48\": \"Y48_ideal\", \"Y49\": \"Y49_ideal\", \"Y50\": \"Y50_ideal\"})"
   ]
  },
  {
   "cell_type": "code",
   "execution_count": 10,
   "id": "dda43b9c",
   "metadata": {},
   "outputs": [],
   "source": [
    "df = pd.merge(Training_data, Ideal_data, on = 'X')"
   ]
  },
  {
   "cell_type": "code",
   "execution_count": 11,
   "id": "cf74263e",
   "metadata": {},
   "outputs": [],
   "source": [
    "#summing Y1_train - Y1-50_ideal"
   ]
  },
  {
   "cell_type": "code",
   "execution_count": 12,
   "id": "1f2d624d",
   "metadata": {},
   "outputs": [],
   "source": [
    "a = []\n",
    "for i in range (1,51):\n",
    "    name = f'Y1_train - Y{i}_ideal'\n",
    "    #print(name)\n",
    "    df [name] = (df['Y1_train'] - df[f'Y{i}_ideal'])**2\n",
    "    a.append(sum(df[name]))\n",
    "#print(df.head())"
   ]
  },
  {
   "cell_type": "code",
   "execution_count": 13,
   "id": "837d35f4",
   "metadata": {},
   "outputs": [],
   "source": [
    "#finding the miniumn Value Y1_train"
   ]
  },
  {
   "cell_type": "code",
   "execution_count": 14,
   "id": "88ee8a67",
   "metadata": {},
   "outputs": [
    {
     "name": "stdout",
     "output_type": "stream",
     "text": [
      "Y42_ideal is the closest ideal function to Y1_train with sum of squared deviations 33.56501065824653\n"
     ]
    }
   ],
   "source": [
    "minimumn = a [0]\n",
    "index = 1\n",
    "closest_ideal = 'Y1_ideal' \n",
    "for i in a:\n",
    "    if i < minimumn:\n",
    "        minimumn = i\n",
    "        closest_ideal = f'Y{index}_ideal'\n",
    "    index = index + 1\n",
    "print(f'{closest_ideal} is the closest ideal function to Y1_train with sum of squared deviations {minimumn}')\n",
    "    "
   ]
  },
  {
   "cell_type": "code",
   "execution_count": 15,
   "id": "d8e1cf24",
   "metadata": {},
   "outputs": [],
   "source": [
    "# Summing the squres of Y2_train - Y1-50_ideal"
   ]
  },
  {
   "cell_type": "code",
   "execution_count": 16,
   "id": "5b3c793e",
   "metadata": {},
   "outputs": [
    {
     "name": "stderr",
     "output_type": "stream",
     "text": [
      "C:\\Users\\dextr\\AppData\\Local\\Temp\\ipykernel_16040\\2167652600.py:5: PerformanceWarning: DataFrame is highly fragmented.  This is usually the result of calling `frame.insert` many times, which has poor performance.  Consider joining all columns at once using pd.concat(axis=1) instead. To get a de-fragmented frame, use `newframe = frame.copy()`\n",
      "  df [name] = (df['Y2_train'] - df[f'Y{i}_ideal'])**2\n",
      "C:\\Users\\dextr\\AppData\\Local\\Temp\\ipykernel_16040\\2167652600.py:5: PerformanceWarning: DataFrame is highly fragmented.  This is usually the result of calling `frame.insert` many times, which has poor performance.  Consider joining all columns at once using pd.concat(axis=1) instead. To get a de-fragmented frame, use `newframe = frame.copy()`\n",
      "  df [name] = (df['Y2_train'] - df[f'Y{i}_ideal'])**2\n"
     ]
    }
   ],
   "source": [
    "a = []\n",
    "for i in range (1,51):\n",
    "    name = f'Y2_train - Y{i}_ideal'\n",
    "    #print(name)\n",
    "    df [name] = (df['Y2_train'] - df[f'Y{i}_ideal'])**2\n",
    "    a.append(sum(df[name]))\n",
    "#print(df.head())"
   ]
  },
  {
   "cell_type": "code",
   "execution_count": 17,
   "id": "98d0d5b2",
   "metadata": {},
   "outputs": [],
   "source": [
    "#Finding the minimumn value Y2_train"
   ]
  },
  {
   "cell_type": "code",
   "execution_count": 18,
   "id": "717aec4f",
   "metadata": {},
   "outputs": [
    {
     "name": "stdout",
     "output_type": "stream",
     "text": [
      "Y49_ideal is the closest ideal function to Y2_train with sum of squared deviations 33.2136930775663\n"
     ]
    }
   ],
   "source": [
    "minimumn = a [0]\n",
    "index = 1\n",
    "closest_ideal = 'Y1_ideal' \n",
    "for i in a:\n",
    "    if i < minimumn:\n",
    "        minimumn = i\n",
    "        closest_ideal = f'Y{index}_ideal'\n",
    "    index = index + 1\n",
    "print(f'{closest_ideal} is the closest ideal function to Y2_train with sum of squared deviations {minimumn}')"
   ]
  },
  {
   "cell_type": "code",
   "execution_count": 19,
   "id": "088d0e04",
   "metadata": {},
   "outputs": [],
   "source": [
    "#summing Y3_train - Y1-50_ideal"
   ]
  },
  {
   "cell_type": "code",
   "execution_count": 20,
   "id": "6bcfd3d8",
   "metadata": {},
   "outputs": [
    {
     "name": "stderr",
     "output_type": "stream",
     "text": [
      "C:\\Users\\dextr\\AppData\\Local\\Temp\\ipykernel_16040\\3691959100.py:5: PerformanceWarning: DataFrame is highly fragmented.  This is usually the result of calling `frame.insert` many times, which has poor performance.  Consider joining all columns at once using pd.concat(axis=1) instead. To get a de-fragmented frame, use `newframe = frame.copy()`\n",
      "  df [name] = (df['Y3_train'] - df[f'Y{i}_ideal'])**2\n",
      "C:\\Users\\dextr\\AppData\\Local\\Temp\\ipykernel_16040\\3691959100.py:5: PerformanceWarning: DataFrame is highly fragmented.  This is usually the result of calling `frame.insert` many times, which has poor performance.  Consider joining all columns at once using pd.concat(axis=1) instead. To get a de-fragmented frame, use `newframe = frame.copy()`\n",
      "  df [name] = (df['Y3_train'] - df[f'Y{i}_ideal'])**2\n",
      "C:\\Users\\dextr\\AppData\\Local\\Temp\\ipykernel_16040\\3691959100.py:5: PerformanceWarning: DataFrame is highly fragmented.  This is usually the result of calling `frame.insert` many times, which has poor performance.  Consider joining all columns at once using pd.concat(axis=1) instead. To get a de-fragmented frame, use `newframe = frame.copy()`\n",
      "  df [name] = (df['Y3_train'] - df[f'Y{i}_ideal'])**2\n",
      "C:\\Users\\dextr\\AppData\\Local\\Temp\\ipykernel_16040\\3691959100.py:5: PerformanceWarning: DataFrame is highly fragmented.  This is usually the result of calling `frame.insert` many times, which has poor performance.  Consider joining all columns at once using pd.concat(axis=1) instead. To get a de-fragmented frame, use `newframe = frame.copy()`\n",
      "  df [name] = (df['Y3_train'] - df[f'Y{i}_ideal'])**2\n",
      "C:\\Users\\dextr\\AppData\\Local\\Temp\\ipykernel_16040\\3691959100.py:5: PerformanceWarning: DataFrame is highly fragmented.  This is usually the result of calling `frame.insert` many times, which has poor performance.  Consider joining all columns at once using pd.concat(axis=1) instead. To get a de-fragmented frame, use `newframe = frame.copy()`\n",
      "  df [name] = (df['Y3_train'] - df[f'Y{i}_ideal'])**2\n",
      "C:\\Users\\dextr\\AppData\\Local\\Temp\\ipykernel_16040\\3691959100.py:5: PerformanceWarning: DataFrame is highly fragmented.  This is usually the result of calling `frame.insert` many times, which has poor performance.  Consider joining all columns at once using pd.concat(axis=1) instead. To get a de-fragmented frame, use `newframe = frame.copy()`\n",
      "  df [name] = (df['Y3_train'] - df[f'Y{i}_ideal'])**2\n",
      "C:\\Users\\dextr\\AppData\\Local\\Temp\\ipykernel_16040\\3691959100.py:5: PerformanceWarning: DataFrame is highly fragmented.  This is usually the result of calling `frame.insert` many times, which has poor performance.  Consider joining all columns at once using pd.concat(axis=1) instead. To get a de-fragmented frame, use `newframe = frame.copy()`\n",
      "  df [name] = (df['Y3_train'] - df[f'Y{i}_ideal'])**2\n",
      "C:\\Users\\dextr\\AppData\\Local\\Temp\\ipykernel_16040\\3691959100.py:5: PerformanceWarning: DataFrame is highly fragmented.  This is usually the result of calling `frame.insert` many times, which has poor performance.  Consider joining all columns at once using pd.concat(axis=1) instead. To get a de-fragmented frame, use `newframe = frame.copy()`\n",
      "  df [name] = (df['Y3_train'] - df[f'Y{i}_ideal'])**2\n",
      "C:\\Users\\dextr\\AppData\\Local\\Temp\\ipykernel_16040\\3691959100.py:5: PerformanceWarning: DataFrame is highly fragmented.  This is usually the result of calling `frame.insert` many times, which has poor performance.  Consider joining all columns at once using pd.concat(axis=1) instead. To get a de-fragmented frame, use `newframe = frame.copy()`\n",
      "  df [name] = (df['Y3_train'] - df[f'Y{i}_ideal'])**2\n",
      "C:\\Users\\dextr\\AppData\\Local\\Temp\\ipykernel_16040\\3691959100.py:5: PerformanceWarning: DataFrame is highly fragmented.  This is usually the result of calling `frame.insert` many times, which has poor performance.  Consider joining all columns at once using pd.concat(axis=1) instead. To get a de-fragmented frame, use `newframe = frame.copy()`\n",
      "  df [name] = (df['Y3_train'] - df[f'Y{i}_ideal'])**2\n",
      "C:\\Users\\dextr\\AppData\\Local\\Temp\\ipykernel_16040\\3691959100.py:5: PerformanceWarning: DataFrame is highly fragmented.  This is usually the result of calling `frame.insert` many times, which has poor performance.  Consider joining all columns at once using pd.concat(axis=1) instead. To get a de-fragmented frame, use `newframe = frame.copy()`\n",
      "  df [name] = (df['Y3_train'] - df[f'Y{i}_ideal'])**2\n",
      "C:\\Users\\dextr\\AppData\\Local\\Temp\\ipykernel_16040\\3691959100.py:5: PerformanceWarning: DataFrame is highly fragmented.  This is usually the result of calling `frame.insert` many times, which has poor performance.  Consider joining all columns at once using pd.concat(axis=1) instead. To get a de-fragmented frame, use `newframe = frame.copy()`\n",
      "  df [name] = (df['Y3_train'] - df[f'Y{i}_ideal'])**2\n",
      "C:\\Users\\dextr\\AppData\\Local\\Temp\\ipykernel_16040\\3691959100.py:5: PerformanceWarning: DataFrame is highly fragmented.  This is usually the result of calling `frame.insert` many times, which has poor performance.  Consider joining all columns at once using pd.concat(axis=1) instead. To get a de-fragmented frame, use `newframe = frame.copy()`\n",
      "  df [name] = (df['Y3_train'] - df[f'Y{i}_ideal'])**2\n",
      "C:\\Users\\dextr\\AppData\\Local\\Temp\\ipykernel_16040\\3691959100.py:5: PerformanceWarning: DataFrame is highly fragmented.  This is usually the result of calling `frame.insert` many times, which has poor performance.  Consider joining all columns at once using pd.concat(axis=1) instead. To get a de-fragmented frame, use `newframe = frame.copy()`\n",
      "  df [name] = (df['Y3_train'] - df[f'Y{i}_ideal'])**2\n",
      "C:\\Users\\dextr\\AppData\\Local\\Temp\\ipykernel_16040\\3691959100.py:5: PerformanceWarning: DataFrame is highly fragmented.  This is usually the result of calling `frame.insert` many times, which has poor performance.  Consider joining all columns at once using pd.concat(axis=1) instead. To get a de-fragmented frame, use `newframe = frame.copy()`\n",
      "  df [name] = (df['Y3_train'] - df[f'Y{i}_ideal'])**2\n",
      "C:\\Users\\dextr\\AppData\\Local\\Temp\\ipykernel_16040\\3691959100.py:5: PerformanceWarning: DataFrame is highly fragmented.  This is usually the result of calling `frame.insert` many times, which has poor performance.  Consider joining all columns at once using pd.concat(axis=1) instead. To get a de-fragmented frame, use `newframe = frame.copy()`\n",
      "  df [name] = (df['Y3_train'] - df[f'Y{i}_ideal'])**2\n",
      "C:\\Users\\dextr\\AppData\\Local\\Temp\\ipykernel_16040\\3691959100.py:5: PerformanceWarning: DataFrame is highly fragmented.  This is usually the result of calling `frame.insert` many times, which has poor performance.  Consider joining all columns at once using pd.concat(axis=1) instead. To get a de-fragmented frame, use `newframe = frame.copy()`\n",
      "  df [name] = (df['Y3_train'] - df[f'Y{i}_ideal'])**2\n",
      "C:\\Users\\dextr\\AppData\\Local\\Temp\\ipykernel_16040\\3691959100.py:5: PerformanceWarning: DataFrame is highly fragmented.  This is usually the result of calling `frame.insert` many times, which has poor performance.  Consider joining all columns at once using pd.concat(axis=1) instead. To get a de-fragmented frame, use `newframe = frame.copy()`\n",
      "  df [name] = (df['Y3_train'] - df[f'Y{i}_ideal'])**2\n",
      "C:\\Users\\dextr\\AppData\\Local\\Temp\\ipykernel_16040\\3691959100.py:5: PerformanceWarning: DataFrame is highly fragmented.  This is usually the result of calling `frame.insert` many times, which has poor performance.  Consider joining all columns at once using pd.concat(axis=1) instead. To get a de-fragmented frame, use `newframe = frame.copy()`\n",
      "  df [name] = (df['Y3_train'] - df[f'Y{i}_ideal'])**2\n",
      "C:\\Users\\dextr\\AppData\\Local\\Temp\\ipykernel_16040\\3691959100.py:5: PerformanceWarning: DataFrame is highly fragmented.  This is usually the result of calling `frame.insert` many times, which has poor performance.  Consider joining all columns at once using pd.concat(axis=1) instead. To get a de-fragmented frame, use `newframe = frame.copy()`\n",
      "  df [name] = (df['Y3_train'] - df[f'Y{i}_ideal'])**2\n",
      "C:\\Users\\dextr\\AppData\\Local\\Temp\\ipykernel_16040\\3691959100.py:5: PerformanceWarning: DataFrame is highly fragmented.  This is usually the result of calling `frame.insert` many times, which has poor performance.  Consider joining all columns at once using pd.concat(axis=1) instead. To get a de-fragmented frame, use `newframe = frame.copy()`\n",
      "  df [name] = (df['Y3_train'] - df[f'Y{i}_ideal'])**2\n",
      "C:\\Users\\dextr\\AppData\\Local\\Temp\\ipykernel_16040\\3691959100.py:5: PerformanceWarning: DataFrame is highly fragmented.  This is usually the result of calling `frame.insert` many times, which has poor performance.  Consider joining all columns at once using pd.concat(axis=1) instead. To get a de-fragmented frame, use `newframe = frame.copy()`\n",
      "  df [name] = (df['Y3_train'] - df[f'Y{i}_ideal'])**2\n",
      "C:\\Users\\dextr\\AppData\\Local\\Temp\\ipykernel_16040\\3691959100.py:5: PerformanceWarning: DataFrame is highly fragmented.  This is usually the result of calling `frame.insert` many times, which has poor performance.  Consider joining all columns at once using pd.concat(axis=1) instead. To get a de-fragmented frame, use `newframe = frame.copy()`\n",
      "  df [name] = (df['Y3_train'] - df[f'Y{i}_ideal'])**2\n",
      "C:\\Users\\dextr\\AppData\\Local\\Temp\\ipykernel_16040\\3691959100.py:5: PerformanceWarning: DataFrame is highly fragmented.  This is usually the result of calling `frame.insert` many times, which has poor performance.  Consider joining all columns at once using pd.concat(axis=1) instead. To get a de-fragmented frame, use `newframe = frame.copy()`\n",
      "  df [name] = (df['Y3_train'] - df[f'Y{i}_ideal'])**2\n"
     ]
    },
    {
     "name": "stderr",
     "output_type": "stream",
     "text": [
      "C:\\Users\\dextr\\AppData\\Local\\Temp\\ipykernel_16040\\3691959100.py:5: PerformanceWarning: DataFrame is highly fragmented.  This is usually the result of calling `frame.insert` many times, which has poor performance.  Consider joining all columns at once using pd.concat(axis=1) instead. To get a de-fragmented frame, use `newframe = frame.copy()`\n",
      "  df [name] = (df['Y3_train'] - df[f'Y{i}_ideal'])**2\n",
      "C:\\Users\\dextr\\AppData\\Local\\Temp\\ipykernel_16040\\3691959100.py:5: PerformanceWarning: DataFrame is highly fragmented.  This is usually the result of calling `frame.insert` many times, which has poor performance.  Consider joining all columns at once using pd.concat(axis=1) instead. To get a de-fragmented frame, use `newframe = frame.copy()`\n",
      "  df [name] = (df['Y3_train'] - df[f'Y{i}_ideal'])**2\n",
      "C:\\Users\\dextr\\AppData\\Local\\Temp\\ipykernel_16040\\3691959100.py:5: PerformanceWarning: DataFrame is highly fragmented.  This is usually the result of calling `frame.insert` many times, which has poor performance.  Consider joining all columns at once using pd.concat(axis=1) instead. To get a de-fragmented frame, use `newframe = frame.copy()`\n",
      "  df [name] = (df['Y3_train'] - df[f'Y{i}_ideal'])**2\n",
      "C:\\Users\\dextr\\AppData\\Local\\Temp\\ipykernel_16040\\3691959100.py:5: PerformanceWarning: DataFrame is highly fragmented.  This is usually the result of calling `frame.insert` many times, which has poor performance.  Consider joining all columns at once using pd.concat(axis=1) instead. To get a de-fragmented frame, use `newframe = frame.copy()`\n",
      "  df [name] = (df['Y3_train'] - df[f'Y{i}_ideal'])**2\n",
      "C:\\Users\\dextr\\AppData\\Local\\Temp\\ipykernel_16040\\3691959100.py:5: PerformanceWarning: DataFrame is highly fragmented.  This is usually the result of calling `frame.insert` many times, which has poor performance.  Consider joining all columns at once using pd.concat(axis=1) instead. To get a de-fragmented frame, use `newframe = frame.copy()`\n",
      "  df [name] = (df['Y3_train'] - df[f'Y{i}_ideal'])**2\n",
      "C:\\Users\\dextr\\AppData\\Local\\Temp\\ipykernel_16040\\3691959100.py:5: PerformanceWarning: DataFrame is highly fragmented.  This is usually the result of calling `frame.insert` many times, which has poor performance.  Consider joining all columns at once using pd.concat(axis=1) instead. To get a de-fragmented frame, use `newframe = frame.copy()`\n",
      "  df [name] = (df['Y3_train'] - df[f'Y{i}_ideal'])**2\n",
      "C:\\Users\\dextr\\AppData\\Local\\Temp\\ipykernel_16040\\3691959100.py:5: PerformanceWarning: DataFrame is highly fragmented.  This is usually the result of calling `frame.insert` many times, which has poor performance.  Consider joining all columns at once using pd.concat(axis=1) instead. To get a de-fragmented frame, use `newframe = frame.copy()`\n",
      "  df [name] = (df['Y3_train'] - df[f'Y{i}_ideal'])**2\n",
      "C:\\Users\\dextr\\AppData\\Local\\Temp\\ipykernel_16040\\3691959100.py:5: PerformanceWarning: DataFrame is highly fragmented.  This is usually the result of calling `frame.insert` many times, which has poor performance.  Consider joining all columns at once using pd.concat(axis=1) instead. To get a de-fragmented frame, use `newframe = frame.copy()`\n",
      "  df [name] = (df['Y3_train'] - df[f'Y{i}_ideal'])**2\n",
      "C:\\Users\\dextr\\AppData\\Local\\Temp\\ipykernel_16040\\3691959100.py:5: PerformanceWarning: DataFrame is highly fragmented.  This is usually the result of calling `frame.insert` many times, which has poor performance.  Consider joining all columns at once using pd.concat(axis=1) instead. To get a de-fragmented frame, use `newframe = frame.copy()`\n",
      "  df [name] = (df['Y3_train'] - df[f'Y{i}_ideal'])**2\n",
      "C:\\Users\\dextr\\AppData\\Local\\Temp\\ipykernel_16040\\3691959100.py:5: PerformanceWarning: DataFrame is highly fragmented.  This is usually the result of calling `frame.insert` many times, which has poor performance.  Consider joining all columns at once using pd.concat(axis=1) instead. To get a de-fragmented frame, use `newframe = frame.copy()`\n",
      "  df [name] = (df['Y3_train'] - df[f'Y{i}_ideal'])**2\n",
      "C:\\Users\\dextr\\AppData\\Local\\Temp\\ipykernel_16040\\3691959100.py:5: PerformanceWarning: DataFrame is highly fragmented.  This is usually the result of calling `frame.insert` many times, which has poor performance.  Consider joining all columns at once using pd.concat(axis=1) instead. To get a de-fragmented frame, use `newframe = frame.copy()`\n",
      "  df [name] = (df['Y3_train'] - df[f'Y{i}_ideal'])**2\n",
      "C:\\Users\\dextr\\AppData\\Local\\Temp\\ipykernel_16040\\3691959100.py:5: PerformanceWarning: DataFrame is highly fragmented.  This is usually the result of calling `frame.insert` many times, which has poor performance.  Consider joining all columns at once using pd.concat(axis=1) instead. To get a de-fragmented frame, use `newframe = frame.copy()`\n",
      "  df [name] = (df['Y3_train'] - df[f'Y{i}_ideal'])**2\n",
      "C:\\Users\\dextr\\AppData\\Local\\Temp\\ipykernel_16040\\3691959100.py:5: PerformanceWarning: DataFrame is highly fragmented.  This is usually the result of calling `frame.insert` many times, which has poor performance.  Consider joining all columns at once using pd.concat(axis=1) instead. To get a de-fragmented frame, use `newframe = frame.copy()`\n",
      "  df [name] = (df['Y3_train'] - df[f'Y{i}_ideal'])**2\n",
      "C:\\Users\\dextr\\AppData\\Local\\Temp\\ipykernel_16040\\3691959100.py:5: PerformanceWarning: DataFrame is highly fragmented.  This is usually the result of calling `frame.insert` many times, which has poor performance.  Consider joining all columns at once using pd.concat(axis=1) instead. To get a de-fragmented frame, use `newframe = frame.copy()`\n",
      "  df [name] = (df['Y3_train'] - df[f'Y{i}_ideal'])**2\n",
      "C:\\Users\\dextr\\AppData\\Local\\Temp\\ipykernel_16040\\3691959100.py:5: PerformanceWarning: DataFrame is highly fragmented.  This is usually the result of calling `frame.insert` many times, which has poor performance.  Consider joining all columns at once using pd.concat(axis=1) instead. To get a de-fragmented frame, use `newframe = frame.copy()`\n",
      "  df [name] = (df['Y3_train'] - df[f'Y{i}_ideal'])**2\n",
      "C:\\Users\\dextr\\AppData\\Local\\Temp\\ipykernel_16040\\3691959100.py:5: PerformanceWarning: DataFrame is highly fragmented.  This is usually the result of calling `frame.insert` many times, which has poor performance.  Consider joining all columns at once using pd.concat(axis=1) instead. To get a de-fragmented frame, use `newframe = frame.copy()`\n",
      "  df [name] = (df['Y3_train'] - df[f'Y{i}_ideal'])**2\n",
      "C:\\Users\\dextr\\AppData\\Local\\Temp\\ipykernel_16040\\3691959100.py:5: PerformanceWarning: DataFrame is highly fragmented.  This is usually the result of calling `frame.insert` many times, which has poor performance.  Consider joining all columns at once using pd.concat(axis=1) instead. To get a de-fragmented frame, use `newframe = frame.copy()`\n",
      "  df [name] = (df['Y3_train'] - df[f'Y{i}_ideal'])**2\n",
      "C:\\Users\\dextr\\AppData\\Local\\Temp\\ipykernel_16040\\3691959100.py:5: PerformanceWarning: DataFrame is highly fragmented.  This is usually the result of calling `frame.insert` many times, which has poor performance.  Consider joining all columns at once using pd.concat(axis=1) instead. To get a de-fragmented frame, use `newframe = frame.copy()`\n",
      "  df [name] = (df['Y3_train'] - df[f'Y{i}_ideal'])**2\n",
      "C:\\Users\\dextr\\AppData\\Local\\Temp\\ipykernel_16040\\3691959100.py:5: PerformanceWarning: DataFrame is highly fragmented.  This is usually the result of calling `frame.insert` many times, which has poor performance.  Consider joining all columns at once using pd.concat(axis=1) instead. To get a de-fragmented frame, use `newframe = frame.copy()`\n",
      "  df [name] = (df['Y3_train'] - df[f'Y{i}_ideal'])**2\n",
      "C:\\Users\\dextr\\AppData\\Local\\Temp\\ipykernel_16040\\3691959100.py:5: PerformanceWarning: DataFrame is highly fragmented.  This is usually the result of calling `frame.insert` many times, which has poor performance.  Consider joining all columns at once using pd.concat(axis=1) instead. To get a de-fragmented frame, use `newframe = frame.copy()`\n",
      "  df [name] = (df['Y3_train'] - df[f'Y{i}_ideal'])**2\n",
      "C:\\Users\\dextr\\AppData\\Local\\Temp\\ipykernel_16040\\3691959100.py:5: PerformanceWarning: DataFrame is highly fragmented.  This is usually the result of calling `frame.insert` many times, which has poor performance.  Consider joining all columns at once using pd.concat(axis=1) instead. To get a de-fragmented frame, use `newframe = frame.copy()`\n",
      "  df [name] = (df['Y3_train'] - df[f'Y{i}_ideal'])**2\n",
      "C:\\Users\\dextr\\AppData\\Local\\Temp\\ipykernel_16040\\3691959100.py:5: PerformanceWarning: DataFrame is highly fragmented.  This is usually the result of calling `frame.insert` many times, which has poor performance.  Consider joining all columns at once using pd.concat(axis=1) instead. To get a de-fragmented frame, use `newframe = frame.copy()`\n",
      "  df [name] = (df['Y3_train'] - df[f'Y{i}_ideal'])**2\n"
     ]
    },
    {
     "name": "stderr",
     "output_type": "stream",
     "text": [
      "C:\\Users\\dextr\\AppData\\Local\\Temp\\ipykernel_16040\\3691959100.py:5: PerformanceWarning: DataFrame is highly fragmented.  This is usually the result of calling `frame.insert` many times, which has poor performance.  Consider joining all columns at once using pd.concat(axis=1) instead. To get a de-fragmented frame, use `newframe = frame.copy()`\n",
      "  df [name] = (df['Y3_train'] - df[f'Y{i}_ideal'])**2\n",
      "C:\\Users\\dextr\\AppData\\Local\\Temp\\ipykernel_16040\\3691959100.py:5: PerformanceWarning: DataFrame is highly fragmented.  This is usually the result of calling `frame.insert` many times, which has poor performance.  Consider joining all columns at once using pd.concat(axis=1) instead. To get a de-fragmented frame, use `newframe = frame.copy()`\n",
      "  df [name] = (df['Y3_train'] - df[f'Y{i}_ideal'])**2\n",
      "C:\\Users\\dextr\\AppData\\Local\\Temp\\ipykernel_16040\\3691959100.py:5: PerformanceWarning: DataFrame is highly fragmented.  This is usually the result of calling `frame.insert` many times, which has poor performance.  Consider joining all columns at once using pd.concat(axis=1) instead. To get a de-fragmented frame, use `newframe = frame.copy()`\n",
      "  df [name] = (df['Y3_train'] - df[f'Y{i}_ideal'])**2\n",
      "C:\\Users\\dextr\\AppData\\Local\\Temp\\ipykernel_16040\\3691959100.py:5: PerformanceWarning: DataFrame is highly fragmented.  This is usually the result of calling `frame.insert` many times, which has poor performance.  Consider joining all columns at once using pd.concat(axis=1) instead. To get a de-fragmented frame, use `newframe = frame.copy()`\n",
      "  df [name] = (df['Y3_train'] - df[f'Y{i}_ideal'])**2\n"
     ]
    }
   ],
   "source": [
    "a = []\n",
    "for i in range (1,51):\n",
    "    name = f'Y3_train - Y{i}_ideal'\n",
    "    #print(name)\n",
    "    df [name] = (df['Y3_train'] - df[f'Y{i}_ideal'])**2\n",
    "    a.append(sum(df[name]))\n",
    "#print(df.head())"
   ]
  },
  {
   "cell_type": "code",
   "execution_count": null,
   "id": "cac194b3",
   "metadata": {},
   "outputs": [],
   "source": []
  },
  {
   "cell_type": "code",
   "execution_count": 21,
   "id": "2108fdfd",
   "metadata": {},
   "outputs": [],
   "source": [
    "#finding the minimumn value Y3_train "
   ]
  },
  {
   "cell_type": "code",
   "execution_count": 22,
   "id": "2f595cc0",
   "metadata": {},
   "outputs": [
    {
     "name": "stdout",
     "output_type": "stream",
     "text": [
      "Y33_ideal is the closest ideal function to Y3_train with sum of squared deviations 33.69626047494965\n"
     ]
    }
   ],
   "source": [
    "minimumn = a [0]\n",
    "index = 1\n",
    "closest_ideal = 'Y1_ideal' \n",
    "for i in a:\n",
    "    if i < minimumn:\n",
    "        minimumn = i\n",
    "        closest_ideal = f'Y{index}_ideal'\n",
    "    index = index + 1\n",
    "print(f'{closest_ideal} is the closest ideal function to Y3_train with sum of squared deviations {minimumn}')"
   ]
  },
  {
   "cell_type": "code",
   "execution_count": 23,
   "id": "cc766521",
   "metadata": {},
   "outputs": [],
   "source": [
    "# Summing Y4_train - Y1-50_ideal"
   ]
  },
  {
   "cell_type": "code",
   "execution_count": 24,
   "id": "588b1bca",
   "metadata": {},
   "outputs": [
    {
     "name": "stderr",
     "output_type": "stream",
     "text": [
      "C:\\Users\\dextr\\AppData\\Local\\Temp\\ipykernel_16040\\4256797667.py:5: PerformanceWarning: DataFrame is highly fragmented.  This is usually the result of calling `frame.insert` many times, which has poor performance.  Consider joining all columns at once using pd.concat(axis=1) instead. To get a de-fragmented frame, use `newframe = frame.copy()`\n",
      "  df [name] = (df['Y4_train'] - df[f'Y{i}_ideal'])**2\n",
      "C:\\Users\\dextr\\AppData\\Local\\Temp\\ipykernel_16040\\4256797667.py:5: PerformanceWarning: DataFrame is highly fragmented.  This is usually the result of calling `frame.insert` many times, which has poor performance.  Consider joining all columns at once using pd.concat(axis=1) instead. To get a de-fragmented frame, use `newframe = frame.copy()`\n",
      "  df [name] = (df['Y4_train'] - df[f'Y{i}_ideal'])**2\n",
      "C:\\Users\\dextr\\AppData\\Local\\Temp\\ipykernel_16040\\4256797667.py:5: PerformanceWarning: DataFrame is highly fragmented.  This is usually the result of calling `frame.insert` many times, which has poor performance.  Consider joining all columns at once using pd.concat(axis=1) instead. To get a de-fragmented frame, use `newframe = frame.copy()`\n",
      "  df [name] = (df['Y4_train'] - df[f'Y{i}_ideal'])**2\n",
      "C:\\Users\\dextr\\AppData\\Local\\Temp\\ipykernel_16040\\4256797667.py:5: PerformanceWarning: DataFrame is highly fragmented.  This is usually the result of calling `frame.insert` many times, which has poor performance.  Consider joining all columns at once using pd.concat(axis=1) instead. To get a de-fragmented frame, use `newframe = frame.copy()`\n",
      "  df [name] = (df['Y4_train'] - df[f'Y{i}_ideal'])**2\n",
      "C:\\Users\\dextr\\AppData\\Local\\Temp\\ipykernel_16040\\4256797667.py:5: PerformanceWarning: DataFrame is highly fragmented.  This is usually the result of calling `frame.insert` many times, which has poor performance.  Consider joining all columns at once using pd.concat(axis=1) instead. To get a de-fragmented frame, use `newframe = frame.copy()`\n",
      "  df [name] = (df['Y4_train'] - df[f'Y{i}_ideal'])**2\n",
      "C:\\Users\\dextr\\AppData\\Local\\Temp\\ipykernel_16040\\4256797667.py:5: PerformanceWarning: DataFrame is highly fragmented.  This is usually the result of calling `frame.insert` many times, which has poor performance.  Consider joining all columns at once using pd.concat(axis=1) instead. To get a de-fragmented frame, use `newframe = frame.copy()`\n",
      "  df [name] = (df['Y4_train'] - df[f'Y{i}_ideal'])**2\n",
      "C:\\Users\\dextr\\AppData\\Local\\Temp\\ipykernel_16040\\4256797667.py:5: PerformanceWarning: DataFrame is highly fragmented.  This is usually the result of calling `frame.insert` many times, which has poor performance.  Consider joining all columns at once using pd.concat(axis=1) instead. To get a de-fragmented frame, use `newframe = frame.copy()`\n",
      "  df [name] = (df['Y4_train'] - df[f'Y{i}_ideal'])**2\n",
      "C:\\Users\\dextr\\AppData\\Local\\Temp\\ipykernel_16040\\4256797667.py:5: PerformanceWarning: DataFrame is highly fragmented.  This is usually the result of calling `frame.insert` many times, which has poor performance.  Consider joining all columns at once using pd.concat(axis=1) instead. To get a de-fragmented frame, use `newframe = frame.copy()`\n",
      "  df [name] = (df['Y4_train'] - df[f'Y{i}_ideal'])**2\n",
      "C:\\Users\\dextr\\AppData\\Local\\Temp\\ipykernel_16040\\4256797667.py:5: PerformanceWarning: DataFrame is highly fragmented.  This is usually the result of calling `frame.insert` many times, which has poor performance.  Consider joining all columns at once using pd.concat(axis=1) instead. To get a de-fragmented frame, use `newframe = frame.copy()`\n",
      "  df [name] = (df['Y4_train'] - df[f'Y{i}_ideal'])**2\n",
      "C:\\Users\\dextr\\AppData\\Local\\Temp\\ipykernel_16040\\4256797667.py:5: PerformanceWarning: DataFrame is highly fragmented.  This is usually the result of calling `frame.insert` many times, which has poor performance.  Consider joining all columns at once using pd.concat(axis=1) instead. To get a de-fragmented frame, use `newframe = frame.copy()`\n",
      "  df [name] = (df['Y4_train'] - df[f'Y{i}_ideal'])**2\n",
      "C:\\Users\\dextr\\AppData\\Local\\Temp\\ipykernel_16040\\4256797667.py:5: PerformanceWarning: DataFrame is highly fragmented.  This is usually the result of calling `frame.insert` many times, which has poor performance.  Consider joining all columns at once using pd.concat(axis=1) instead. To get a de-fragmented frame, use `newframe = frame.copy()`\n",
      "  df [name] = (df['Y4_train'] - df[f'Y{i}_ideal'])**2\n",
      "C:\\Users\\dextr\\AppData\\Local\\Temp\\ipykernel_16040\\4256797667.py:5: PerformanceWarning: DataFrame is highly fragmented.  This is usually the result of calling `frame.insert` many times, which has poor performance.  Consider joining all columns at once using pd.concat(axis=1) instead. To get a de-fragmented frame, use `newframe = frame.copy()`\n",
      "  df [name] = (df['Y4_train'] - df[f'Y{i}_ideal'])**2\n",
      "C:\\Users\\dextr\\AppData\\Local\\Temp\\ipykernel_16040\\4256797667.py:5: PerformanceWarning: DataFrame is highly fragmented.  This is usually the result of calling `frame.insert` many times, which has poor performance.  Consider joining all columns at once using pd.concat(axis=1) instead. To get a de-fragmented frame, use `newframe = frame.copy()`\n",
      "  df [name] = (df['Y4_train'] - df[f'Y{i}_ideal'])**2\n",
      "C:\\Users\\dextr\\AppData\\Local\\Temp\\ipykernel_16040\\4256797667.py:5: PerformanceWarning: DataFrame is highly fragmented.  This is usually the result of calling `frame.insert` many times, which has poor performance.  Consider joining all columns at once using pd.concat(axis=1) instead. To get a de-fragmented frame, use `newframe = frame.copy()`\n",
      "  df [name] = (df['Y4_train'] - df[f'Y{i}_ideal'])**2\n",
      "C:\\Users\\dextr\\AppData\\Local\\Temp\\ipykernel_16040\\4256797667.py:5: PerformanceWarning: DataFrame is highly fragmented.  This is usually the result of calling `frame.insert` many times, which has poor performance.  Consider joining all columns at once using pd.concat(axis=1) instead. To get a de-fragmented frame, use `newframe = frame.copy()`\n",
      "  df [name] = (df['Y4_train'] - df[f'Y{i}_ideal'])**2\n",
      "C:\\Users\\dextr\\AppData\\Local\\Temp\\ipykernel_16040\\4256797667.py:5: PerformanceWarning: DataFrame is highly fragmented.  This is usually the result of calling `frame.insert` many times, which has poor performance.  Consider joining all columns at once using pd.concat(axis=1) instead. To get a de-fragmented frame, use `newframe = frame.copy()`\n",
      "  df [name] = (df['Y4_train'] - df[f'Y{i}_ideal'])**2\n",
      "C:\\Users\\dextr\\AppData\\Local\\Temp\\ipykernel_16040\\4256797667.py:5: PerformanceWarning: DataFrame is highly fragmented.  This is usually the result of calling `frame.insert` many times, which has poor performance.  Consider joining all columns at once using pd.concat(axis=1) instead. To get a de-fragmented frame, use `newframe = frame.copy()`\n",
      "  df [name] = (df['Y4_train'] - df[f'Y{i}_ideal'])**2\n",
      "C:\\Users\\dextr\\AppData\\Local\\Temp\\ipykernel_16040\\4256797667.py:5: PerformanceWarning: DataFrame is highly fragmented.  This is usually the result of calling `frame.insert` many times, which has poor performance.  Consider joining all columns at once using pd.concat(axis=1) instead. To get a de-fragmented frame, use `newframe = frame.copy()`\n",
      "  df [name] = (df['Y4_train'] - df[f'Y{i}_ideal'])**2\n",
      "C:\\Users\\dextr\\AppData\\Local\\Temp\\ipykernel_16040\\4256797667.py:5: PerformanceWarning: DataFrame is highly fragmented.  This is usually the result of calling `frame.insert` many times, which has poor performance.  Consider joining all columns at once using pd.concat(axis=1) instead. To get a de-fragmented frame, use `newframe = frame.copy()`\n",
      "  df [name] = (df['Y4_train'] - df[f'Y{i}_ideal'])**2\n",
      "C:\\Users\\dextr\\AppData\\Local\\Temp\\ipykernel_16040\\4256797667.py:5: PerformanceWarning: DataFrame is highly fragmented.  This is usually the result of calling `frame.insert` many times, which has poor performance.  Consider joining all columns at once using pd.concat(axis=1) instead. To get a de-fragmented frame, use `newframe = frame.copy()`\n",
      "  df [name] = (df['Y4_train'] - df[f'Y{i}_ideal'])**2\n",
      "C:\\Users\\dextr\\AppData\\Local\\Temp\\ipykernel_16040\\4256797667.py:5: PerformanceWarning: DataFrame is highly fragmented.  This is usually the result of calling `frame.insert` many times, which has poor performance.  Consider joining all columns at once using pd.concat(axis=1) instead. To get a de-fragmented frame, use `newframe = frame.copy()`\n",
      "  df [name] = (df['Y4_train'] - df[f'Y{i}_ideal'])**2\n",
      "C:\\Users\\dextr\\AppData\\Local\\Temp\\ipykernel_16040\\4256797667.py:5: PerformanceWarning: DataFrame is highly fragmented.  This is usually the result of calling `frame.insert` many times, which has poor performance.  Consider joining all columns at once using pd.concat(axis=1) instead. To get a de-fragmented frame, use `newframe = frame.copy()`\n",
      "  df [name] = (df['Y4_train'] - df[f'Y{i}_ideal'])**2\n",
      "C:\\Users\\dextr\\AppData\\Local\\Temp\\ipykernel_16040\\4256797667.py:5: PerformanceWarning: DataFrame is highly fragmented.  This is usually the result of calling `frame.insert` many times, which has poor performance.  Consider joining all columns at once using pd.concat(axis=1) instead. To get a de-fragmented frame, use `newframe = frame.copy()`\n",
      "  df [name] = (df['Y4_train'] - df[f'Y{i}_ideal'])**2\n",
      "C:\\Users\\dextr\\AppData\\Local\\Temp\\ipykernel_16040\\4256797667.py:5: PerformanceWarning: DataFrame is highly fragmented.  This is usually the result of calling `frame.insert` many times, which has poor performance.  Consider joining all columns at once using pd.concat(axis=1) instead. To get a de-fragmented frame, use `newframe = frame.copy()`\n",
      "  df [name] = (df['Y4_train'] - df[f'Y{i}_ideal'])**2\n"
     ]
    },
    {
     "name": "stderr",
     "output_type": "stream",
     "text": [
      "C:\\Users\\dextr\\AppData\\Local\\Temp\\ipykernel_16040\\4256797667.py:5: PerformanceWarning: DataFrame is highly fragmented.  This is usually the result of calling `frame.insert` many times, which has poor performance.  Consider joining all columns at once using pd.concat(axis=1) instead. To get a de-fragmented frame, use `newframe = frame.copy()`\n",
      "  df [name] = (df['Y4_train'] - df[f'Y{i}_ideal'])**2\n",
      "C:\\Users\\dextr\\AppData\\Local\\Temp\\ipykernel_16040\\4256797667.py:5: PerformanceWarning: DataFrame is highly fragmented.  This is usually the result of calling `frame.insert` many times, which has poor performance.  Consider joining all columns at once using pd.concat(axis=1) instead. To get a de-fragmented frame, use `newframe = frame.copy()`\n",
      "  df [name] = (df['Y4_train'] - df[f'Y{i}_ideal'])**2\n",
      "C:\\Users\\dextr\\AppData\\Local\\Temp\\ipykernel_16040\\4256797667.py:5: PerformanceWarning: DataFrame is highly fragmented.  This is usually the result of calling `frame.insert` many times, which has poor performance.  Consider joining all columns at once using pd.concat(axis=1) instead. To get a de-fragmented frame, use `newframe = frame.copy()`\n",
      "  df [name] = (df['Y4_train'] - df[f'Y{i}_ideal'])**2\n",
      "C:\\Users\\dextr\\AppData\\Local\\Temp\\ipykernel_16040\\4256797667.py:5: PerformanceWarning: DataFrame is highly fragmented.  This is usually the result of calling `frame.insert` many times, which has poor performance.  Consider joining all columns at once using pd.concat(axis=1) instead. To get a de-fragmented frame, use `newframe = frame.copy()`\n",
      "  df [name] = (df['Y4_train'] - df[f'Y{i}_ideal'])**2\n",
      "C:\\Users\\dextr\\AppData\\Local\\Temp\\ipykernel_16040\\4256797667.py:5: PerformanceWarning: DataFrame is highly fragmented.  This is usually the result of calling `frame.insert` many times, which has poor performance.  Consider joining all columns at once using pd.concat(axis=1) instead. To get a de-fragmented frame, use `newframe = frame.copy()`\n",
      "  df [name] = (df['Y4_train'] - df[f'Y{i}_ideal'])**2\n",
      "C:\\Users\\dextr\\AppData\\Local\\Temp\\ipykernel_16040\\4256797667.py:5: PerformanceWarning: DataFrame is highly fragmented.  This is usually the result of calling `frame.insert` many times, which has poor performance.  Consider joining all columns at once using pd.concat(axis=1) instead. To get a de-fragmented frame, use `newframe = frame.copy()`\n",
      "  df [name] = (df['Y4_train'] - df[f'Y{i}_ideal'])**2\n",
      "C:\\Users\\dextr\\AppData\\Local\\Temp\\ipykernel_16040\\4256797667.py:5: PerformanceWarning: DataFrame is highly fragmented.  This is usually the result of calling `frame.insert` many times, which has poor performance.  Consider joining all columns at once using pd.concat(axis=1) instead. To get a de-fragmented frame, use `newframe = frame.copy()`\n",
      "  df [name] = (df['Y4_train'] - df[f'Y{i}_ideal'])**2\n",
      "C:\\Users\\dextr\\AppData\\Local\\Temp\\ipykernel_16040\\4256797667.py:5: PerformanceWarning: DataFrame is highly fragmented.  This is usually the result of calling `frame.insert` many times, which has poor performance.  Consider joining all columns at once using pd.concat(axis=1) instead. To get a de-fragmented frame, use `newframe = frame.copy()`\n",
      "  df [name] = (df['Y4_train'] - df[f'Y{i}_ideal'])**2\n",
      "C:\\Users\\dextr\\AppData\\Local\\Temp\\ipykernel_16040\\4256797667.py:5: PerformanceWarning: DataFrame is highly fragmented.  This is usually the result of calling `frame.insert` many times, which has poor performance.  Consider joining all columns at once using pd.concat(axis=1) instead. To get a de-fragmented frame, use `newframe = frame.copy()`\n",
      "  df [name] = (df['Y4_train'] - df[f'Y{i}_ideal'])**2\n",
      "C:\\Users\\dextr\\AppData\\Local\\Temp\\ipykernel_16040\\4256797667.py:5: PerformanceWarning: DataFrame is highly fragmented.  This is usually the result of calling `frame.insert` many times, which has poor performance.  Consider joining all columns at once using pd.concat(axis=1) instead. To get a de-fragmented frame, use `newframe = frame.copy()`\n",
      "  df [name] = (df['Y4_train'] - df[f'Y{i}_ideal'])**2\n",
      "C:\\Users\\dextr\\AppData\\Local\\Temp\\ipykernel_16040\\4256797667.py:5: PerformanceWarning: DataFrame is highly fragmented.  This is usually the result of calling `frame.insert` many times, which has poor performance.  Consider joining all columns at once using pd.concat(axis=1) instead. To get a de-fragmented frame, use `newframe = frame.copy()`\n",
      "  df [name] = (df['Y4_train'] - df[f'Y{i}_ideal'])**2\n",
      "C:\\Users\\dextr\\AppData\\Local\\Temp\\ipykernel_16040\\4256797667.py:5: PerformanceWarning: DataFrame is highly fragmented.  This is usually the result of calling `frame.insert` many times, which has poor performance.  Consider joining all columns at once using pd.concat(axis=1) instead. To get a de-fragmented frame, use `newframe = frame.copy()`\n",
      "  df [name] = (df['Y4_train'] - df[f'Y{i}_ideal'])**2\n",
      "C:\\Users\\dextr\\AppData\\Local\\Temp\\ipykernel_16040\\4256797667.py:5: PerformanceWarning: DataFrame is highly fragmented.  This is usually the result of calling `frame.insert` many times, which has poor performance.  Consider joining all columns at once using pd.concat(axis=1) instead. To get a de-fragmented frame, use `newframe = frame.copy()`\n",
      "  df [name] = (df['Y4_train'] - df[f'Y{i}_ideal'])**2\n",
      "C:\\Users\\dextr\\AppData\\Local\\Temp\\ipykernel_16040\\4256797667.py:5: PerformanceWarning: DataFrame is highly fragmented.  This is usually the result of calling `frame.insert` many times, which has poor performance.  Consider joining all columns at once using pd.concat(axis=1) instead. To get a de-fragmented frame, use `newframe = frame.copy()`\n",
      "  df [name] = (df['Y4_train'] - df[f'Y{i}_ideal'])**2\n",
      "C:\\Users\\dextr\\AppData\\Local\\Temp\\ipykernel_16040\\4256797667.py:5: PerformanceWarning: DataFrame is highly fragmented.  This is usually the result of calling `frame.insert` many times, which has poor performance.  Consider joining all columns at once using pd.concat(axis=1) instead. To get a de-fragmented frame, use `newframe = frame.copy()`\n",
      "  df [name] = (df['Y4_train'] - df[f'Y{i}_ideal'])**2\n",
      "C:\\Users\\dextr\\AppData\\Local\\Temp\\ipykernel_16040\\4256797667.py:5: PerformanceWarning: DataFrame is highly fragmented.  This is usually the result of calling `frame.insert` many times, which has poor performance.  Consider joining all columns at once using pd.concat(axis=1) instead. To get a de-fragmented frame, use `newframe = frame.copy()`\n",
      "  df [name] = (df['Y4_train'] - df[f'Y{i}_ideal'])**2\n",
      "C:\\Users\\dextr\\AppData\\Local\\Temp\\ipykernel_16040\\4256797667.py:5: PerformanceWarning: DataFrame is highly fragmented.  This is usually the result of calling `frame.insert` many times, which has poor performance.  Consider joining all columns at once using pd.concat(axis=1) instead. To get a de-fragmented frame, use `newframe = frame.copy()`\n",
      "  df [name] = (df['Y4_train'] - df[f'Y{i}_ideal'])**2\n",
      "C:\\Users\\dextr\\AppData\\Local\\Temp\\ipykernel_16040\\4256797667.py:5: PerformanceWarning: DataFrame is highly fragmented.  This is usually the result of calling `frame.insert` many times, which has poor performance.  Consider joining all columns at once using pd.concat(axis=1) instead. To get a de-fragmented frame, use `newframe = frame.copy()`\n",
      "  df [name] = (df['Y4_train'] - df[f'Y{i}_ideal'])**2\n",
      "C:\\Users\\dextr\\AppData\\Local\\Temp\\ipykernel_16040\\4256797667.py:5: PerformanceWarning: DataFrame is highly fragmented.  This is usually the result of calling `frame.insert` many times, which has poor performance.  Consider joining all columns at once using pd.concat(axis=1) instead. To get a de-fragmented frame, use `newframe = frame.copy()`\n",
      "  df [name] = (df['Y4_train'] - df[f'Y{i}_ideal'])**2\n",
      "C:\\Users\\dextr\\AppData\\Local\\Temp\\ipykernel_16040\\4256797667.py:5: PerformanceWarning: DataFrame is highly fragmented.  This is usually the result of calling `frame.insert` many times, which has poor performance.  Consider joining all columns at once using pd.concat(axis=1) instead. To get a de-fragmented frame, use `newframe = frame.copy()`\n",
      "  df [name] = (df['Y4_train'] - df[f'Y{i}_ideal'])**2\n",
      "C:\\Users\\dextr\\AppData\\Local\\Temp\\ipykernel_16040\\4256797667.py:5: PerformanceWarning: DataFrame is highly fragmented.  This is usually the result of calling `frame.insert` many times, which has poor performance.  Consider joining all columns at once using pd.concat(axis=1) instead. To get a de-fragmented frame, use `newframe = frame.copy()`\n",
      "  df [name] = (df['Y4_train'] - df[f'Y{i}_ideal'])**2\n",
      "C:\\Users\\dextr\\AppData\\Local\\Temp\\ipykernel_16040\\4256797667.py:5: PerformanceWarning: DataFrame is highly fragmented.  This is usually the result of calling `frame.insert` many times, which has poor performance.  Consider joining all columns at once using pd.concat(axis=1) instead. To get a de-fragmented frame, use `newframe = frame.copy()`\n",
      "  df [name] = (df['Y4_train'] - df[f'Y{i}_ideal'])**2\n",
      "C:\\Users\\dextr\\AppData\\Local\\Temp\\ipykernel_16040\\4256797667.py:5: PerformanceWarning: DataFrame is highly fragmented.  This is usually the result of calling `frame.insert` many times, which has poor performance.  Consider joining all columns at once using pd.concat(axis=1) instead. To get a de-fragmented frame, use `newframe = frame.copy()`\n",
      "  df [name] = (df['Y4_train'] - df[f'Y{i}_ideal'])**2\n",
      "C:\\Users\\dextr\\AppData\\Local\\Temp\\ipykernel_16040\\4256797667.py:5: PerformanceWarning: DataFrame is highly fragmented.  This is usually the result of calling `frame.insert` many times, which has poor performance.  Consider joining all columns at once using pd.concat(axis=1) instead. To get a de-fragmented frame, use `newframe = frame.copy()`\n",
      "  df [name] = (df['Y4_train'] - df[f'Y{i}_ideal'])**2\n"
     ]
    },
    {
     "name": "stderr",
     "output_type": "stream",
     "text": [
      "C:\\Users\\dextr\\AppData\\Local\\Temp\\ipykernel_16040\\4256797667.py:5: PerformanceWarning: DataFrame is highly fragmented.  This is usually the result of calling `frame.insert` many times, which has poor performance.  Consider joining all columns at once using pd.concat(axis=1) instead. To get a de-fragmented frame, use `newframe = frame.copy()`\n",
      "  df [name] = (df['Y4_train'] - df[f'Y{i}_ideal'])**2\n",
      "C:\\Users\\dextr\\AppData\\Local\\Temp\\ipykernel_16040\\4256797667.py:5: PerformanceWarning: DataFrame is highly fragmented.  This is usually the result of calling `frame.insert` many times, which has poor performance.  Consider joining all columns at once using pd.concat(axis=1) instead. To get a de-fragmented frame, use `newframe = frame.copy()`\n",
      "  df [name] = (df['Y4_train'] - df[f'Y{i}_ideal'])**2\n"
     ]
    }
   ],
   "source": [
    "a = []\n",
    "for i in range (1,51):\n",
    "    name = f'Y4_train - Y{i}_ideal'\n",
    "    #print(name)\n",
    "    df [name] = (df['Y4_train'] - df[f'Y{i}_ideal'])**2\n",
    "    a.append(sum(df[name]))\n",
    "#print(df.head())"
   ]
  },
  {
   "cell_type": "code",
   "execution_count": 25,
   "id": "3a70a11e",
   "metadata": {},
   "outputs": [],
   "source": [
    "# finding the minimumn value for Y4 - Y1-50_ideal"
   ]
  },
  {
   "cell_type": "code",
   "execution_count": 26,
   "id": "64c88e8c",
   "metadata": {},
   "outputs": [
    {
     "name": "stdout",
     "output_type": "stream",
     "text": [
      "Y18_ideal is the closest ideal function to Y4_train with sum of squared deviations 33.8349181237443\n"
     ]
    }
   ],
   "source": [
    "minimumn = a [0]\n",
    "index = 1\n",
    "closest_ideal = 'Y1_ideal' \n",
    "for i in a:\n",
    "    if i < minimumn:\n",
    "        minimumn = i\n",
    "        closest_ideal = f'Y{index}_ideal'\n",
    "    index = index + 1\n",
    "print(f'{closest_ideal} is the closest ideal function to Y4_train with sum of squared deviations {minimumn}')"
   ]
  },
  {
   "cell_type": "code",
   "execution_count": 27,
   "id": "35e6f6e2",
   "metadata": {},
   "outputs": [],
   "source": [
    "# finding the the maximumn deviation "
   ]
  },
  {
   "cell_type": "code",
   "execution_count": 28,
   "id": "e688f5c6",
   "metadata": {},
   "outputs": [],
   "source": [
    "import pandas as pd\n",
    "import numpy as np\n",
    "import math "
   ]
  },
  {
   "cell_type": "code",
   "execution_count": 29,
   "id": "8dcba70a",
   "metadata": {},
   "outputs": [],
   "source": [
    "df = pd.merge(Training_data, Ideal_data, on = 'X')"
   ]
  },
  {
   "cell_type": "code",
   "execution_count": 30,
   "id": "33794bb0",
   "metadata": {},
   "outputs": [
    {
     "name": "stdout",
     "output_type": "stream",
     "text": [
      "0.7060701626453326\n"
     ]
    }
   ],
   "source": [
    "name = 'Y1_train - Y42_ideal'\n",
    "    \n",
    "df [name] = abs(df['Y1_train'] - df['Y42_ideal'])\n",
    "    \n",
    "maximum_deviation_max_dev_ideal_42 = df[name].max()*math.sqrt(2)\n",
    "\n",
    "print (maximum_deviation_max_dev_ideal_42)"
   ]
  },
  {
   "cell_type": "code",
   "execution_count": 31,
   "id": "84394468",
   "metadata": {},
   "outputs": [
    {
     "name": "stdout",
     "output_type": "stream",
     "text": [
      "0.703768035097819\n"
     ]
    }
   ],
   "source": [
    "name = 'Y2_train - Y49_ideal'\n",
    "    \n",
    "df [name] = abs(df['Y2_train'] - df['Y49_ideal'])\n",
    "    \n",
    "maximum_deviation_max_dev_ideal_49 = df[name].max()*math.sqrt(2)\n",
    "\n",
    "print (maximum_deviation_max_dev_ideal_49)"
   ]
  },
  {
   "cell_type": "code",
   "execution_count": 32,
   "id": "9b16322a",
   "metadata": {},
   "outputs": [
    {
     "name": "stdout",
     "output_type": "stream",
     "text": [
      "0.7066669607686497\n"
     ]
    }
   ],
   "source": [
    "name = 'Y3_train - Y33_ideal'\n",
    "    \n",
    "df [name] = abs(df['Y3_train'] - df['Y33_ideal'])\n",
    "    \n",
    "maximum_deviation_max_dev_ideal_33 = df[name].max()*math.sqrt(2)\n",
    "\n",
    "print (maximum_deviation_max_dev_ideal_33)"
   ]
  },
  {
   "cell_type": "code",
   "execution_count": 33,
   "id": "8ed777e1",
   "metadata": {},
   "outputs": [
    {
     "name": "stdout",
     "output_type": "stream",
     "text": [
      "0.7060744052860091\n"
     ]
    }
   ],
   "source": [
    "name = 'Y4_train - Y18_ideal'\n",
    "    \n",
    "df [name] = abs(df['Y4_train'] - df['Y18_ideal'])\n",
    "    \n",
    "maximum_deviation_max_dev_ideal_18 = df[name].max()*math.sqrt(2)\n",
    "\n",
    "print (maximum_deviation_max_dev_ideal_18)"
   ]
  },
  {
   "cell_type": "code",
   "execution_count": 34,
   "id": "fe54ec37",
   "metadata": {},
   "outputs": [],
   "source": [
    "#Importing testing data"
   ]
  },
  {
   "cell_type": "code",
   "execution_count": 35,
   "id": "424017f2",
   "metadata": {},
   "outputs": [],
   "source": [
    "import csv"
   ]
  },
  {
   "cell_type": "code",
   "execution_count": 36,
   "id": "ca24309c",
   "metadata": {},
   "outputs": [],
   "source": [
    "#Table for testing data\n",
    "data_list = []"
   ]
  },
  {
   "cell_type": "code",
   "execution_count": 37,
   "id": "2c075823",
   "metadata": {},
   "outputs": [],
   "source": [
    "#Merging Testing and Ideal dataframes"
   ]
  },
  {
   "cell_type": "code",
   "execution_count": 38,
   "id": "06e91408",
   "metadata": {},
   "outputs": [],
   "source": [
    "import pandas as pd"
   ]
  },
  {
   "cell_type": "code",
   "execution_count": 39,
   "id": "188861f2",
   "metadata": {},
   "outputs": [],
   "source": [
    "Testing_data = pd.read_csv('test.csv')"
   ]
  },
  {
   "cell_type": "code",
   "execution_count": 40,
   "id": "9536dfa2",
   "metadata": {},
   "outputs": [],
   "source": [
    "Testing_data = Testing_data.rename(columns={'y': 'Y_test'})"
   ]
  },
  {
   "cell_type": "code",
   "execution_count": 41,
   "id": "874a159f",
   "metadata": {},
   "outputs": [],
   "source": [
    "Ideal_data = pd.read_csv('ideal.csv')"
   ]
  },
  {
   "cell_type": "code",
   "execution_count": 42,
   "id": "7ff9fe4a",
   "metadata": {},
   "outputs": [],
   "source": [
    "Ideal_data = Ideal_data.rename(columns={\"y1\": \"Y1_ideal\", \"y2\": \"Y2_ideal\", \"y3\": \"Y3_ideal\", \"y4\": \"Y4_ideal\", \"y5\": \"Y5_ideal\", \"y6\": \"Y6_ideal\", \"y7\":\"Y7_ideal\", \"y8\": \"Y8_ideal\", \"y9\": \"Y9_ideal\", \"y10\":\"Y10_ideal\", \"y11\": \"Y11_ideal\", \"y12\": \"Y12_ideal\", \"y13\": \"Y13_ideal\", \"y14\": \"Y14_ideal\", \"y15\": \"Y15_ideal\", \"y16\": \"Y16_ideal\", \"y17\": \"Y17_ideal\", \"y18\": \"Y18_ideal\", \"y19\": \"Y19_ideal\", \"y20\": \"Y20_ideal\", \"y21\": \"Y21_ideal\", \"y22\": \"Y22_ideal\", \"y23\": \"Y23_ideal\", \"y24\": \"Y24_ideal\", \"y25\": \"Y25_ideal\", \"y26\": \"Y26_ideal\", \"y27\": \"Y27_ideal\", \"y28\": \"Y28_ideal\", \"y29\": \"Y29_ideal\", \"y30\": \"Y30_ideal\", \"y31\": \"Y31_ideal\", \"y32\": \"Y32_ideal\", \"y33\": \"Y33_ideal\", \"y34\": \"Y34_ideal\", \"y35\": \"Y35_ideal\", \"y36\": \"Y36_ideal\", \"y37\": \"Y37_ideal\", \"y38\": \"Y38_ideal\", \"y39\": \"Y39_ideal\", \"y40\": \"Y40_ideal\", \"y41\": \"Y41_ideal\", \"y42\": \"Y42_ideal\", \"y43\": \"Y43_ideal\", \"y44\": \"Y44_ideal\", \"y45\": \"Y45_ideal\", \"y46\": \"Y46_ideal\", \"y47\": \"Y47_ideal\", \"y48\": \"Y48_ideal\", \"y49\": \"Y49_ideal\", \"y50\": \"Y50_ideal\"})"
   ]
  },
  {
   "cell_type": "code",
   "execution_count": 43,
   "id": "04db0826",
   "metadata": {},
   "outputs": [],
   "source": [
    "df = pd.merge(Testing_data, Ideal_data, on = 'x')\n",
    "#print(df.head())"
   ]
  },
  {
   "cell_type": "code",
   "execution_count": 44,
   "id": "6ed82f4c",
   "metadata": {},
   "outputs": [],
   "source": [
    "# computing the absoulte value of Y_test - Y()_ideal "
   ]
  },
  {
   "cell_type": "code",
   "execution_count": 45,
   "id": "ae041f33",
   "metadata": {},
   "outputs": [],
   "source": [
    "import pandas as pd\n",
    "import numpy as np\n",
    "import math "
   ]
  },
  {
   "cell_type": "code",
   "execution_count": 46,
   "id": "fd4ecf3a",
   "metadata": {},
   "outputs": [],
   "source": [
    "df = pd.merge(Testing_data, Ideal_data, on = 'x')"
   ]
  },
  {
   "cell_type": "code",
   "execution_count": 47,
   "id": "e7dc31ce",
   "metadata": {},
   "outputs": [
    {
     "name": "stdout",
     "output_type": "stream",
     "text": [
      "[{'x': 6.3, 'Y': -11.493437, 'Delta Y': 0.6066339999999997, 'no_ideal': 'Y4'}, {'x': 18.3, 'Y': -36.615993, 'Delta Y': 0.4423710000000014, 'no_ideal': 'Y4'}, {'x': -7.7, 'Y': 15.731804, 'Delta Y': 0.2551175000000008, 'no_ideal': 'Y4'}, {'x': -16.0, 'Y': 32.096645, 'Delta Y': 0.5754750000000008, 'no_ideal': 'Y4'}, {'x': -11.7, 'Y': 23.057823, 'Delta Y': 0.6659760000000006, 'no_ideal': 'Y4'}, {'x': 6.6, 'Y': -12.8742, 'Delta Y': 0.14931600000000067, 'no_ideal': 'Y4'}, {'x': 2.6, 'Y': -6.1926427, 'Delta Y': 0.5641987000000004, 'no_ideal': 'Y4'}, {'x': -12.8, 'Y': 26.497337, 'Delta Y': 0.41092100000000187, 'no_ideal': 'Y4'}, {'x': -13.3, 'Y': 27.659273, 'Delta Y': 0.6878980000000006, 'no_ideal': 'Y4'}, {'x': 0.1, 'Y': -0.20911016, 'Delta Y': 0.50661223, 'no_ideal': 'Y4'}, {'x': -16.2, 'Y': 31.48482, 'Delta Y': 0.47449399999999997, 'no_ideal': 'Y4'}, {'x': -0.5, 'Y': 1.8706357, 'Delta Y': 0.4318443999999999, 'no_ideal': 'Y4'}]\n"
     ]
    }
   ],
   "source": [
    "v = []\n",
    "for index in df.index:\n",
    "    absolute_value = abs (df.loc[index,'Y_test'] - df.loc[index,'Y42_ideal'])\n",
    "    if absolute_value <= maximum_deviation_max_dev_ideal_42:\n",
    "        d = {'x': df.loc[index,'x'],'Y':df.loc[index,'Y_test'], 'Delta Y':absolute_value, 'no_ideal':'Y4'}\n",
    "        v.append(d)\n",
    "print(v)"
   ]
  },
  {
   "cell_type": "code",
   "execution_count": 48,
   "id": "41a6bf4c",
   "metadata": {},
   "outputs": [
    {
     "name": "stdout",
     "output_type": "stream",
     "text": [
      "[{'x': 6.3, 'Y': -11.493437, 'Delta Y': 0.6066339999999997, 'no_ideal': 'Y4'}, {'x': 18.3, 'Y': -36.615993, 'Delta Y': 0.4423710000000014, 'no_ideal': 'Y4'}, {'x': -7.7, 'Y': 15.731804, 'Delta Y': 0.2551175000000008, 'no_ideal': 'Y4'}, {'x': -16.0, 'Y': 32.096645, 'Delta Y': 0.5754750000000008, 'no_ideal': 'Y4'}, {'x': -11.7, 'Y': 23.057823, 'Delta Y': 0.6659760000000006, 'no_ideal': 'Y4'}, {'x': 6.6, 'Y': -12.8742, 'Delta Y': 0.14931600000000067, 'no_ideal': 'Y4'}, {'x': 2.6, 'Y': -6.1926427, 'Delta Y': 0.5641987000000004, 'no_ideal': 'Y4'}, {'x': -12.8, 'Y': 26.497337, 'Delta Y': 0.41092100000000187, 'no_ideal': 'Y4'}, {'x': -13.3, 'Y': 27.659273, 'Delta Y': 0.6878980000000006, 'no_ideal': 'Y4'}, {'x': 0.1, 'Y': -0.20911016, 'Delta Y': 0.50661223, 'no_ideal': 'Y4'}, {'x': -16.2, 'Y': 31.48482, 'Delta Y': 0.47449399999999997, 'no_ideal': 'Y4'}, {'x': -0.5, 'Y': 1.8706357, 'Delta Y': 0.4318443999999999, 'no_ideal': 'Y4'}, {'x': 6.6, 'Y': 0.04299294, 'Delta Y': 0.26854841, 'no_ideal': 'Y4'}, {'x': 1.6, 'Y': 1.2655134, 'Delta Y': 0.26593979999999995, 'no_ideal': 'Y4'}, {'x': -2.1, 'Y': 1.4146746, 'Delta Y': 0.5514652299999999, 'no_ideal': 'Y4'}, {'x': -4.1, 'Y': -0.96962285, 'Delta Y': 0.15134575000000006, 'no_ideal': 'Y4'}, {'x': 16.2, 'Y': -0.91434884, 'Delta Y': 0.44192687, 'no_ideal': 'Y4'}, {'x': -16.5, 'Y': -0.5109366, 'Delta Y': 0.2008487, 'no_ideal': 'Y4'}, {'x': 0.1, 'Y': -0.20911016, 'Delta Y': 0.308943574, 'no_ideal': 'Y4'}, {'x': -14.0, 'Y': 0.4503549, 'Delta Y': 0.5402525, 'no_ideal': 'Y4'}, {'x': -19.0, 'Y': 0.77346677, 'Delta Y': 0.62358957, 'no_ideal': 'Y4'}, {'x': -5.7, 'Y': -0.9135206, 'Delta Y': 0.36283509999999997, 'no_ideal': 'Y4'}, {'x': -15.7, 'Y': -0.18293983, 'Delta Y': 0.190903013, 'no_ideal': 'Y4'}, {'x': -9.5, 'Y': -0.5243036, 'Delta Y': 0.44915247999999997, 'no_ideal': 'Y4'}, {'x': -6.6, 'Y': 0.77053976, 'Delta Y': 0.45899841, 'no_ideal': 'Y4'}]\n"
     ]
    }
   ],
   "source": [
    "for index in df.index:\n",
    "    absolute_value = abs (df.loc[index,'Y_test'] - df.loc[index,'Y49_ideal'])\n",
    "    if absolute_value <= maximum_deviation_max_dev_ideal_49:\n",
    "        d = {'x': df.loc[index,'x'],'Y':df.loc[index,'Y_test'], 'Delta Y':absolute_value, 'no_ideal':'Y4'}\n",
    "        v.append(d)\n",
    "print(v)"
   ]
  },
  {
   "cell_type": "code",
   "execution_count": 49,
   "id": "3a808077",
   "metadata": {},
   "outputs": [
    {
     "name": "stdout",
     "output_type": "stream",
     "text": [
      "[{'x': 6.3, 'Y': -11.493437, 'Delta Y': 0.6066339999999997, 'no_ideal': 'Y4'}, {'x': 18.3, 'Y': -36.615993, 'Delta Y': 0.4423710000000014, 'no_ideal': 'Y4'}, {'x': -7.7, 'Y': 15.731804, 'Delta Y': 0.2551175000000008, 'no_ideal': 'Y4'}, {'x': -16.0, 'Y': 32.096645, 'Delta Y': 0.5754750000000008, 'no_ideal': 'Y4'}, {'x': -11.7, 'Y': 23.057823, 'Delta Y': 0.6659760000000006, 'no_ideal': 'Y4'}, {'x': 6.6, 'Y': -12.8742, 'Delta Y': 0.14931600000000067, 'no_ideal': 'Y4'}, {'x': 2.6, 'Y': -6.1926427, 'Delta Y': 0.5641987000000004, 'no_ideal': 'Y4'}, {'x': -12.8, 'Y': 26.497337, 'Delta Y': 0.41092100000000187, 'no_ideal': 'Y4'}, {'x': -13.3, 'Y': 27.659273, 'Delta Y': 0.6878980000000006, 'no_ideal': 'Y4'}, {'x': 0.1, 'Y': -0.20911016, 'Delta Y': 0.50661223, 'no_ideal': 'Y4'}, {'x': -16.2, 'Y': 31.48482, 'Delta Y': 0.47449399999999997, 'no_ideal': 'Y4'}, {'x': -0.5, 'Y': 1.8706357, 'Delta Y': 0.4318443999999999, 'no_ideal': 'Y4'}, {'x': 6.6, 'Y': 0.04299294, 'Delta Y': 0.26854841, 'no_ideal': 'Y4'}, {'x': 1.6, 'Y': 1.2655134, 'Delta Y': 0.26593979999999995, 'no_ideal': 'Y4'}, {'x': -2.1, 'Y': 1.4146746, 'Delta Y': 0.5514652299999999, 'no_ideal': 'Y4'}, {'x': -4.1, 'Y': -0.96962285, 'Delta Y': 0.15134575000000006, 'no_ideal': 'Y4'}, {'x': 16.2, 'Y': -0.91434884, 'Delta Y': 0.44192687, 'no_ideal': 'Y4'}, {'x': -16.5, 'Y': -0.5109366, 'Delta Y': 0.2008487, 'no_ideal': 'Y4'}, {'x': 0.1, 'Y': -0.20911016, 'Delta Y': 0.308943574, 'no_ideal': 'Y4'}, {'x': -14.0, 'Y': 0.4503549, 'Delta Y': 0.5402525, 'no_ideal': 'Y4'}, {'x': -19.0, 'Y': 0.77346677, 'Delta Y': 0.62358957, 'no_ideal': 'Y4'}, {'x': -5.7, 'Y': -0.9135206, 'Delta Y': 0.36283509999999997, 'no_ideal': 'Y4'}, {'x': -15.7, 'Y': -0.18293983, 'Delta Y': 0.190903013, 'no_ideal': 'Y4'}, {'x': -9.5, 'Y': -0.5243036, 'Delta Y': 0.44915247999999997, 'no_ideal': 'Y4'}, {'x': -6.6, 'Y': 0.77053976, 'Delta Y': 0.45899841, 'no_ideal': 'Y4'}, {'x': -10.2, 'Y': 9.939471, 'Delta Y': 0.502751, 'no_ideal': 'Y4'}, {'x': 8.6, 'Y': 8.768413, 'Delta Y': 0.11753099999999961, 'no_ideal': 'Y4'}, {'x': 1.6, 'Y': 2.3437877, 'Delta Y': 0.40575759999999983, 'no_ideal': 'Y4'}, {'x': -18.1, 'Y': 17.627287, 'Delta Y': 0.6103109999999994, 'no_ideal': 'Y4'}, {'x': 5.8, 'Y': 6.402613, 'Delta Y': 0.18650469999999952, 'no_ideal': 'Y4'}, {'x': 18.8, 'Y': 19.601889, 'Delta Y': 0.6693770000000008, 'no_ideal': 'Y4'}, {'x': -11.5, 'Y': 11.936824, 'Delta Y': 0.22144899999999978, 'no_ideal': 'Y4'}, {'x': -4.4, 'Y': 4.396325, 'Delta Y': 0.5392599999999996, 'no_ideal': 'Y4'}, {'x': 17.8, 'Y': 17.60275, 'Delta Y': 0.33715000000000117, 'no_ideal': 'Y4'}, {'x': -12.4, 'Y': 11.915735, 'Delta Y': 0.6842649999999999, 'no_ideal': 'Y4'}, {'x': -0.5, 'Y': 1.8706357, 'Delta Y': 0.4206523000000002, 'no_ideal': 'Y4'}, {'x': 19.8, 'Y': 20.39507, 'Delta Y': 0.4692070000000008, 'no_ideal': 'Y4'}]\n"
     ]
    }
   ],
   "source": [
    "for index in df.index:\n",
    "    absolute_value = abs (df.loc[index,'Y_test'] - df.loc[index,'Y33_ideal'])\n",
    "    if absolute_value <= maximum_deviation_max_dev_ideal_33:\n",
    "        d = {'x': df.loc[index,'x'],'Y':df.loc[index,'Y_test'], 'Delta Y':absolute_value, 'no_ideal':'Y4'}\n",
    "        v.append(d)\n",
    "print(v)"
   ]
  },
  {
   "cell_type": "code",
   "execution_count": 50,
   "id": "ac4ba5af",
   "metadata": {},
   "outputs": [
    {
     "name": "stdout",
     "output_type": "stream",
     "text": [
      "[{'x': 6.3, 'Y': -11.493437, 'Delta Y': 0.6066339999999997, 'no_ideal': 'Y4'}, {'x': 18.3, 'Y': -36.615993, 'Delta Y': 0.4423710000000014, 'no_ideal': 'Y4'}, {'x': -7.7, 'Y': 15.731804, 'Delta Y': 0.2551175000000008, 'no_ideal': 'Y4'}, {'x': -16.0, 'Y': 32.096645, 'Delta Y': 0.5754750000000008, 'no_ideal': 'Y4'}, {'x': -11.7, 'Y': 23.057823, 'Delta Y': 0.6659760000000006, 'no_ideal': 'Y4'}, {'x': 6.6, 'Y': -12.8742, 'Delta Y': 0.14931600000000067, 'no_ideal': 'Y4'}, {'x': 2.6, 'Y': -6.1926427, 'Delta Y': 0.5641987000000004, 'no_ideal': 'Y4'}, {'x': -12.8, 'Y': 26.497337, 'Delta Y': 0.41092100000000187, 'no_ideal': 'Y4'}, {'x': -13.3, 'Y': 27.659273, 'Delta Y': 0.6878980000000006, 'no_ideal': 'Y4'}, {'x': 0.1, 'Y': -0.20911016, 'Delta Y': 0.50661223, 'no_ideal': 'Y4'}, {'x': -16.2, 'Y': 31.48482, 'Delta Y': 0.47449399999999997, 'no_ideal': 'Y4'}, {'x': -0.5, 'Y': 1.8706357, 'Delta Y': 0.4318443999999999, 'no_ideal': 'Y4'}, {'x': 6.6, 'Y': 0.04299294, 'Delta Y': 0.26854841, 'no_ideal': 'Y4'}, {'x': 1.6, 'Y': 1.2655134, 'Delta Y': 0.26593979999999995, 'no_ideal': 'Y4'}, {'x': -2.1, 'Y': 1.4146746, 'Delta Y': 0.5514652299999999, 'no_ideal': 'Y4'}, {'x': -4.1, 'Y': -0.96962285, 'Delta Y': 0.15134575000000006, 'no_ideal': 'Y4'}, {'x': 16.2, 'Y': -0.91434884, 'Delta Y': 0.44192687, 'no_ideal': 'Y4'}, {'x': -16.5, 'Y': -0.5109366, 'Delta Y': 0.2008487, 'no_ideal': 'Y4'}, {'x': 0.1, 'Y': -0.20911016, 'Delta Y': 0.308943574, 'no_ideal': 'Y4'}, {'x': -14.0, 'Y': 0.4503549, 'Delta Y': 0.5402525, 'no_ideal': 'Y4'}, {'x': -19.0, 'Y': 0.77346677, 'Delta Y': 0.62358957, 'no_ideal': 'Y4'}, {'x': -5.7, 'Y': -0.9135206, 'Delta Y': 0.36283509999999997, 'no_ideal': 'Y4'}, {'x': -15.7, 'Y': -0.18293983, 'Delta Y': 0.190903013, 'no_ideal': 'Y4'}, {'x': -9.5, 'Y': -0.5243036, 'Delta Y': 0.44915247999999997, 'no_ideal': 'Y4'}, {'x': -6.6, 'Y': 0.77053976, 'Delta Y': 0.45899841, 'no_ideal': 'Y4'}, {'x': -10.2, 'Y': 9.939471, 'Delta Y': 0.502751, 'no_ideal': 'Y4'}, {'x': 8.6, 'Y': 8.768413, 'Delta Y': 0.11753099999999961, 'no_ideal': 'Y4'}, {'x': 1.6, 'Y': 2.3437877, 'Delta Y': 0.40575759999999983, 'no_ideal': 'Y4'}, {'x': -18.1, 'Y': 17.627287, 'Delta Y': 0.6103109999999994, 'no_ideal': 'Y4'}, {'x': 5.8, 'Y': 6.402613, 'Delta Y': 0.18650469999999952, 'no_ideal': 'Y4'}, {'x': 18.8, 'Y': 19.601889, 'Delta Y': 0.6693770000000008, 'no_ideal': 'Y4'}, {'x': -11.5, 'Y': 11.936824, 'Delta Y': 0.22144899999999978, 'no_ideal': 'Y4'}, {'x': -4.4, 'Y': 4.396325, 'Delta Y': 0.5392599999999996, 'no_ideal': 'Y4'}, {'x': 17.8, 'Y': 17.60275, 'Delta Y': 0.33715000000000117, 'no_ideal': 'Y4'}, {'x': -12.4, 'Y': 11.915735, 'Delta Y': 0.6842649999999999, 'no_ideal': 'Y4'}, {'x': -0.5, 'Y': 1.8706357, 'Delta Y': 0.4206523000000002, 'no_ideal': 'Y4'}, {'x': 19.8, 'Y': 20.39507, 'Delta Y': 0.4692070000000008, 'no_ideal': 'Y4'}, {'x': -16.9, 'Y': 571.477, 'Delta Y': 0.25699999999994816, 'no_ideal': 'Y4'}, {'x': 19.6, 'Y': 768.3206, 'Delta Y': 0.0005999999999630745, 'no_ideal': 'Y4'}, {'x': -8.5, 'Y': 144.3345, 'Delta Y': 0.16550000000000864, 'no_ideal': 'Y4'}, {'x': 17.1, 'Y': 584.166, 'Delta Y': 0.6539999999999964, 'no_ideal': 'Y4'}, {'x': 4.1, 'Y': 33.902523, 'Delta Y': 0.28252300000000474, 'no_ideal': 'Y4'}, {'x': 0.1, 'Y': -0.20911016, 'Delta Y': 0.22911015999999998, 'no_ideal': 'Y4'}, {'x': 11.8, 'Y': 277.87433, 'Delta Y': 0.6056700000000319, 'no_ideal': 'Y4'}, {'x': -9.3, 'Y': 172.44954, 'Delta Y': 0.5304599999999766, 'no_ideal': 'Y4'}, {'x': -12.1, 'Y': 292.25394, 'Delta Y': 0.5660599999999931, 'no_ideal': 'Y4'}, {'x': 9.1, 'Y': 166.0223, 'Delta Y': 0.40229999999999677, 'no_ideal': 'Y4'}]\n"
     ]
    }
   ],
   "source": [
    "for index in df.index:\n",
    "    absolute_value = abs (df.loc[index,'Y_test'] - df.loc[index,'Y18_ideal'])\n",
    "    if absolute_value <= maximum_deviation_max_dev_ideal_18:\n",
    "        d = {'x': df.loc[index,'x'],'Y':df.loc[index,'Y_test'], 'Delta Y':absolute_value, 'no_ideal':'Y4'}\n",
    "        v.append(d)\n",
    "print(v)"
   ]
  },
  {
   "cell_type": "code",
   "execution_count": 51,
   "id": "1ac80585",
   "metadata": {},
   "outputs": [
    {
     "name": "stdout",
     "output_type": "stream",
     "text": [
      "[{'x': 6.3, 'Y': -11.493437, 'Delta Y': 0.6066339999999997, 'no_ideal': 'Y4'}, {'x': 18.3, 'Y': -36.615993, 'Delta Y': 0.4423710000000014, 'no_ideal': 'Y4'}, {'x': -7.7, 'Y': 15.731804, 'Delta Y': 0.2551175000000008, 'no_ideal': 'Y4'}, {'x': -16.0, 'Y': 32.096645, 'Delta Y': 0.5754750000000008, 'no_ideal': 'Y4'}, {'x': -11.7, 'Y': 23.057823, 'Delta Y': 0.6659760000000006, 'no_ideal': 'Y4'}, {'x': 6.6, 'Y': -12.8742, 'Delta Y': 0.14931600000000067, 'no_ideal': 'Y4'}, {'x': 2.6, 'Y': -6.1926427, 'Delta Y': 0.5641987000000004, 'no_ideal': 'Y4'}, {'x': -12.8, 'Y': 26.497337, 'Delta Y': 0.41092100000000187, 'no_ideal': 'Y4'}, {'x': -13.3, 'Y': 27.659273, 'Delta Y': 0.6878980000000006, 'no_ideal': 'Y4'}, {'x': 0.1, 'Y': -0.20911016, 'Delta Y': 0.50661223, 'no_ideal': 'Y4'}, {'x': -16.2, 'Y': 31.48482, 'Delta Y': 0.47449399999999997, 'no_ideal': 'Y4'}, {'x': -0.5, 'Y': 1.8706357, 'Delta Y': 0.4318443999999999, 'no_ideal': 'Y4'}, {'x': 6.6, 'Y': 0.04299294, 'Delta Y': 0.26854841, 'no_ideal': 'Y4'}, {'x': 1.6, 'Y': 1.2655134, 'Delta Y': 0.26593979999999995, 'no_ideal': 'Y4'}, {'x': -2.1, 'Y': 1.4146746, 'Delta Y': 0.5514652299999999, 'no_ideal': 'Y4'}, {'x': -4.1, 'Y': -0.96962285, 'Delta Y': 0.15134575000000006, 'no_ideal': 'Y4'}, {'x': 16.2, 'Y': -0.91434884, 'Delta Y': 0.44192687, 'no_ideal': 'Y4'}, {'x': -16.5, 'Y': -0.5109366, 'Delta Y': 0.2008487, 'no_ideal': 'Y4'}, {'x': 0.1, 'Y': -0.20911016, 'Delta Y': 0.308943574, 'no_ideal': 'Y4'}, {'x': -14.0, 'Y': 0.4503549, 'Delta Y': 0.5402525, 'no_ideal': 'Y4'}, {'x': -19.0, 'Y': 0.77346677, 'Delta Y': 0.62358957, 'no_ideal': 'Y4'}, {'x': -5.7, 'Y': -0.9135206, 'Delta Y': 0.36283509999999997, 'no_ideal': 'Y4'}, {'x': -15.7, 'Y': -0.18293983, 'Delta Y': 0.190903013, 'no_ideal': 'Y4'}, {'x': -9.5, 'Y': -0.5243036, 'Delta Y': 0.44915247999999997, 'no_ideal': 'Y4'}, {'x': -6.6, 'Y': 0.77053976, 'Delta Y': 0.45899841, 'no_ideal': 'Y4'}, {'x': -10.2, 'Y': 9.939471, 'Delta Y': 0.502751, 'no_ideal': 'Y4'}, {'x': 8.6, 'Y': 8.768413, 'Delta Y': 0.11753099999999961, 'no_ideal': 'Y4'}, {'x': 1.6, 'Y': 2.3437877, 'Delta Y': 0.40575759999999983, 'no_ideal': 'Y4'}, {'x': -18.1, 'Y': 17.627287, 'Delta Y': 0.6103109999999994, 'no_ideal': 'Y4'}, {'x': 5.8, 'Y': 6.402613, 'Delta Y': 0.18650469999999952, 'no_ideal': 'Y4'}, {'x': 18.8, 'Y': 19.601889, 'Delta Y': 0.6693770000000008, 'no_ideal': 'Y4'}, {'x': -11.5, 'Y': 11.936824, 'Delta Y': 0.22144899999999978, 'no_ideal': 'Y4'}, {'x': -4.4, 'Y': 4.396325, 'Delta Y': 0.5392599999999996, 'no_ideal': 'Y4'}, {'x': 17.8, 'Y': 17.60275, 'Delta Y': 0.33715000000000117, 'no_ideal': 'Y4'}, {'x': -12.4, 'Y': 11.915735, 'Delta Y': 0.6842649999999999, 'no_ideal': 'Y4'}, {'x': -0.5, 'Y': 1.8706357, 'Delta Y': 0.4206523000000002, 'no_ideal': 'Y4'}, {'x': 19.8, 'Y': 20.39507, 'Delta Y': 0.4692070000000008, 'no_ideal': 'Y4'}, {'x': -16.9, 'Y': 571.477, 'Delta Y': 0.25699999999994816, 'no_ideal': 'Y4'}, {'x': 19.6, 'Y': 768.3206, 'Delta Y': 0.0005999999999630745, 'no_ideal': 'Y4'}, {'x': -8.5, 'Y': 144.3345, 'Delta Y': 0.16550000000000864, 'no_ideal': 'Y4'}, {'x': 17.1, 'Y': 584.166, 'Delta Y': 0.6539999999999964, 'no_ideal': 'Y4'}, {'x': 4.1, 'Y': 33.902523, 'Delta Y': 0.28252300000000474, 'no_ideal': 'Y4'}, {'x': 0.1, 'Y': -0.20911016, 'Delta Y': 0.22911015999999998, 'no_ideal': 'Y4'}, {'x': 11.8, 'Y': 277.87433, 'Delta Y': 0.6056700000000319, 'no_ideal': 'Y4'}, {'x': -9.3, 'Y': 172.44954, 'Delta Y': 0.5304599999999766, 'no_ideal': 'Y4'}, {'x': -12.1, 'Y': 292.25394, 'Delta Y': 0.5660599999999931, 'no_ideal': 'Y4'}, {'x': 9.1, 'Y': 166.0223, 'Delta Y': 0.40229999999999677, 'no_ideal': 'Y4'}, {'x': -17.4, 'Y': 18.395094, 'Delta Y': None, 'no_ideal': None}, {'x': -17.4, 'Y': 35.791, 'Delta Y': None, 'no_ideal': None}, {'x': -10.6, 'Y': -35.20864, 'Delta Y': None, 'no_ideal': None}, {'x': -5.6, 'Y': 71.9747, 'Delta Y': None, 'no_ideal': None}, {'x': 6.8, 'Y': -27.316343, 'Delta Y': None, 'no_ideal': None}, {'x': 18.0, 'Y': -34.297493, 'Delta Y': None, 'no_ideal': None}, {'x': -17.3, 'Y': 599.8053, 'Delta Y': None, 'no_ideal': None}, {'x': -16.0, 'Y': 416.8641, 'Delta Y': None, 'no_ideal': None}, {'x': -19.3, 'Y': 744.09845, 'Delta Y': None, 'no_ideal': None}, {'x': -19.3, 'Y': 744.001, 'Delta Y': None, 'no_ideal': None}, {'x': -12.6, 'Y': 435.2738, 'Delta Y': None, 'no_ideal': None}, {'x': -19.5, 'Y': -0.52329606, 'Delta Y': None, 'no_ideal': None}, {'x': 8.6, 'Y': 7.99003, 'Delta Y': None, 'no_ideal': None}, {'x': 18.2, 'Y': -37.32888, 'Delta Y': None, 'no_ideal': None}, {'x': 19.5, 'Y': 70.809395, 'Delta Y': None, 'no_ideal': None}, {'x': 5.1, 'Y': 86.429596, 'Delta Y': None, 'no_ideal': None}, {'x': 17.1, 'Y': -2.2039132, 'Delta Y': None, 'no_ideal': None}, {'x': -18.3, 'Y': 19.217613, 'Delta Y': None, 'no_ideal': None}, {'x': 8.7, 'Y': 10.386781, 'Delta Y': None, 'no_ideal': None}, {'x': 0.2, 'Y': 125.17929, 'Delta Y': None, 'no_ideal': None}, {'x': 12.7, 'Y': -24.090025, 'Delta Y': None, 'no_ideal': None}, {'x': 7.6, 'Y': 6.9910326, 'Delta Y': None, 'no_ideal': None}, {'x': 8.0, 'Y': -17.264914, 'Delta Y': None, 'no_ideal': None}, {'x': 8.0, 'Y': 427.38663, 'Delta Y': None, 'no_ideal': None}, {'x': 3.9, 'Y': -1.4172237, 'Delta Y': None, 'no_ideal': None}, {'x': 17.0, 'Y': -33.134983, 'Delta Y': None, 'no_ideal': None}, {'x': 12.9, 'Y': 14.120682, 'Delta Y': None, 'no_ideal': None}, {'x': -17.9, 'Y': -1.7994847, 'Delta Y': None, 'no_ideal': None}, {'x': 8.5, 'Y': 10.131103, 'Delta Y': None, 'no_ideal': None}, {'x': 8.5, 'Y': 145.71959, 'Delta Y': None, 'no_ideal': None}, {'x': -13.5, 'Y': 1.6052902, 'Delta Y': None, 'no_ideal': None}, {'x': 17.2, 'Y': -35.76664, 'Delta Y': None, 'no_ideal': None}, {'x': -19.6, 'Y': 18.57128, 'Delta Y': None, 'no_ideal': None}, {'x': -4.1, 'Y': 5.8583555, 'Delta Y': None, 'no_ideal': None}, {'x': -19.8, 'Y': 783.2146, 'Delta Y': None, 'no_ideal': None}, {'x': 17.8, 'Y': -1.693183, 'Delta Y': None, 'no_ideal': None}, {'x': 9.2, 'Y': 452.88174, 'Delta Y': None, 'no_ideal': None}, {'x': 11.9, 'Y': -24.759262, 'Delta Y': None, 'no_ideal': None}, {'x': -16.5, 'Y': 31.278027, 'Delta Y': None, 'no_ideal': None}, {'x': -17.6, 'Y': 620.558, 'Delta Y': None, 'no_ideal': None}, {'x': 16.5, 'Y': 0.3801878, 'Delta Y': None, 'no_ideal': None}, {'x': 16.7, 'Y': -32.547398, 'Delta Y': None, 'no_ideal': None}, {'x': -12.9, 'Y': 304.5168, 'Delta Y': None, 'no_ideal': None}, {'x': -1.7, 'Y': 90.70351, 'Delta Y': None, 'no_ideal': None}, {'x': 2.9, 'Y': -7.460478, 'Delta Y': None, 'no_ideal': None}, {'x': -1.8, 'Y': 66.87269, 'Delta Y': None, 'no_ideal': None}, {'x': 4.6, 'Y': -10.307694, 'Delta Y': None, 'no_ideal': None}, {'x': -10.0, 'Y': 201.16254, 'Delta Y': None, 'no_ideal': None}, {'x': 12.5, 'Y': 313.84024, 'Delta Y': None, 'no_ideal': None}, {'x': -11.2, 'Y': 212.18732, 'Delta Y': None, 'no_ideal': None}, {'x': 10.8, 'Y': 9.850694, 'Delta Y': None, 'no_ideal': None}, {'x': 9.7, 'Y': 540.4761, 'Delta Y': None, 'no_ideal': None}, {'x': 12.3, 'Y': 101.72904, 'Delta Y': None, 'no_ideal': None}, {'x': -8.9, 'Y': 157.67744, 'Delta Y': None, 'no_ideal': None}, {'x': 9.8, 'Y': -21.178734, 'Delta Y': None, 'no_ideal': None}, {'x': 11.7, 'Y': 13.137298, 'Delta Y': None, 'no_ideal': None}]\n"
     ]
    }
   ],
   "source": [
    "for index in df.index:\n",
    "    x = df.loc[index,'x']\n",
    "    Y = df.loc[index, 'Y_test']\n",
    "    mapped = False\n",
    "    for el in v:\n",
    "        x_el = el ['x']\n",
    "        Y_el = el ['Y']\n",
    "        if x == x_el and Y == Y_el:\n",
    "            mapped = True\n",
    "    if not mapped:\n",
    "        d = {'x': df.loc[index,'x'],'Y':df.loc[index,'Y_test'], 'Delta Y':None, 'no_ideal':None}\n",
    "        v.append(d)\n",
    "print(v)"
   ]
  },
  {
   "cell_type": "code",
   "execution_count": 52,
   "id": "5a1a726b",
   "metadata": {},
   "outputs": [],
   "source": [
    "meta_data = db.MetaData()"
   ]
  },
  {
   "cell_type": "code",
   "execution_count": 53,
   "id": "7afedc27",
   "metadata": {},
   "outputs": [],
   "source": [
    "test = db.Table(\"Testing\", meta_data,\n",
    "                db.Column (\"x\", db.Float),\n",
    "                db.Column (\"Y\", db.Float),\n",
    "                db.Column (\"Delta_Y\",db.Float),\n",
    "                db.Column (\"no_ideal\",db.String)\n",
    "               )"
   ]
  },
  {
   "cell_type": "code",
   "execution_count": 54,
   "id": "4f21eae7",
   "metadata": {},
   "outputs": [],
   "source": [
    "meta_data.create_all(engine,[test])"
   ]
  },
  {
   "cell_type": "code",
   "execution_count": 55,
   "id": "2e962363",
   "metadata": {},
   "outputs": [],
   "source": [
    " d = {'x': df.loc[index,'x'],'Y':df.loc[index,'Y_test'], 'Delta Y':absolute_value, 'no_ideal':'Y4'}\n",
    "df = pd.DataFrame(v)\n",
    "#display(df)"
   ]
  },
  {
   "cell_type": "code",
   "execution_count": 56,
   "id": "6baae055",
   "metadata": {},
   "outputs": [],
   "source": [
    "Testing_data =  pd.DataFrame(v)\n",
    "#print (Testing_data)"
   ]
  },
  {
   "cell_type": "code",
   "execution_count": 68,
   "id": "e88f6405",
   "metadata": {},
   "outputs": [
    {
     "ename": "TypeError",
     "evalue": "        x           Y   Delta Y no_ideal\n0     6.3  -11.493437  0.606634       Y4\n1    18.3  -36.615993  0.442371       Y4\n2    -7.7   15.731804  0.255118       Y4\n3   -16.0   32.096645  0.575475       Y4\n4   -11.7   23.057823  0.665976       Y4\n..    ...         ...       ...      ...\n98    9.7  540.476100       NaN     None\n99   12.3  101.729040       NaN     None\n100  -8.9  157.677440       NaN     None\n101   9.8  -21.178734       NaN     None\n102  11.7   13.137298       NaN     None\n\n[103 rows x 4 columns] argument after ** must be a mapping, not Table",
     "output_type": "error",
     "traceback": [
      "\u001b[1;31m---------------------------------------------------------------------------\u001b[0m",
      "\u001b[1;31mTypeError\u001b[0m                                 Traceback (most recent call last)",
      "Input \u001b[1;32mIn [68]\u001b[0m, in \u001b[0;36m<cell line: 4>\u001b[1;34m()\u001b[0m\n\u001b[0;32m      2\u001b[0m data_list \u001b[38;5;241m=\u001b[39m {\u001b[38;5;124m'\u001b[39m\u001b[38;5;124mx\u001b[39m\u001b[38;5;124m'\u001b[39m: df\u001b[38;5;241m.\u001b[39mloc[index,\u001b[38;5;124m'\u001b[39m\u001b[38;5;124mx\u001b[39m\u001b[38;5;124m'\u001b[39m],\u001b[38;5;124m'\u001b[39m\u001b[38;5;124mY\u001b[39m\u001b[38;5;124m'\u001b[39m:df\u001b[38;5;241m.\u001b[39mloc[index,\u001b[38;5;124m'\u001b[39m\u001b[38;5;124mY\u001b[39m\u001b[38;5;124m'\u001b[39m],\u001b[38;5;124m'\u001b[39m\u001b[38;5;124mDelta Y\u001b[39m\u001b[38;5;124m'\u001b[39m:absolute_value, \u001b[38;5;124m'\u001b[39m\u001b[38;5;124mno_ideal\u001b[39m\u001b[38;5;124m'\u001b[39m:\u001b[38;5;124m'\u001b[39m\u001b[38;5;124mY4\u001b[39m\u001b[38;5;124m'\u001b[39m}\n\u001b[0;32m      4\u001b[0m \u001b[38;5;28;01mfor\u001b[39;00m record \u001b[38;5;129;01min\u001b[39;00m data_list:\n\u001b[1;32m----> 5\u001b[0m     data_obj \u001b[38;5;241m=\u001b[39m Testing_data(\u001b[38;5;241m*\u001b[39m\u001b[38;5;241m*\u001b[39mtest)\n\u001b[0;32m      6\u001b[0m     obj_list\u001b[38;5;241m.\u001b[39mappend(obj_data)\n\u001b[0;32m      8\u001b[0m session\u001b[38;5;241m.\u001b[39madd_all(obj_list)\n",
      "\u001b[1;31mTypeError\u001b[0m:         x           Y   Delta Y no_ideal\n0     6.3  -11.493437  0.606634       Y4\n1    18.3  -36.615993  0.442371       Y4\n2    -7.7   15.731804  0.255118       Y4\n3   -16.0   32.096645  0.575475       Y4\n4   -11.7   23.057823  0.665976       Y4\n..    ...         ...       ...      ...\n98    9.7  540.476100       NaN     None\n99   12.3  101.729040       NaN     None\n100  -8.9  157.677440       NaN     None\n101   9.8  -21.178734       NaN     None\n102  11.7   13.137298       NaN     None\n\n[103 rows x 4 columns] argument after ** must be a mapping, not Table"
     ]
    }
   ],
   "source": [
    "obj_list = []\n",
    "data_list = {'x': df.loc[index,'x'],'Y':df.loc[index,'Y'],'Delta Y':absolute_value, 'no_ideal':'Y4'}\n",
    "\n",
    "for record in data_list:\n",
    "    data_obj = Testing_data(**test)\n",
    "    obj_list.append(obj_data)\n",
    "    \n",
    "session.add_all(obj_list)\n",
    "session.commit()"
   ]
  },
  {
   "cell_type": "code",
   "execution_count": 128,
   "id": "901abd8f",
   "metadata": {},
   "outputs": [],
   "source": [
    "def test_core_insert_plain_sql_no_pks(cleanup=True, num=104):\n",
    "    Testing_data = pd.DataFrame(v)\n",
    "    sql_query = \"\"\"\n",
    "        INSERT INTO test\n",
    "        (x, Y, Delta_Y, No_ideal)\n",
    "        VALUE (%(x)s, %(Y)s, %(Delta_Y)s, %(no_ideal)s)\n",
    "        \"\"\"\n",
    "    with get_conn(cleanup) as conn:\n",
    "        conn.exec_driver_sql(\n",
    "            sql_query,[{'x': df.loc[index,'x'],'Y':df.loc[index,'Y_test'], 'Delta Y':absolute_value, 'no_ideal':'Y4'} \n",
    "                      for x in range (num)]\n",
    "        )"
   ]
  },
  {
   "cell_type": "code",
   "execution_count": null,
   "id": "55a13b38",
   "metadata": {},
   "outputs": [],
   "source": []
  }
 ],
 "metadata": {
  "kernelspec": {
   "display_name": "Python 3 (ipykernel)",
   "language": "python",
   "name": "python3"
  },
  "language_info": {
   "codemirror_mode": {
    "name": "ipython",
    "version": 3
   },
   "file_extension": ".py",
   "mimetype": "text/x-python",
   "name": "python",
   "nbconvert_exporter": "python",
   "pygments_lexer": "ipython3",
   "version": "3.9.12"
  }
 },
 "nbformat": 4,
 "nbformat_minor": 5
}
